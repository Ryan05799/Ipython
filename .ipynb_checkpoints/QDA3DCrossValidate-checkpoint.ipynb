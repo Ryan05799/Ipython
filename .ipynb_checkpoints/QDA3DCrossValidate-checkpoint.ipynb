{
 "cells": [
  {
   "cell_type": "code",
   "execution_count": 182,
   "metadata": {
    "collapsed": true
   },
   "outputs": [],
   "source": [
    "import pandas as pd\n",
    "from scipy import linalg\n",
    "import numpy as np\n",
    "import matplotlib.pyplot as plt\n",
    "import matplotlib as mpl\n",
    "from matplotlib import colors\n",
    "from mpl_toolkits.mplot3d import Axes3D\n",
    "from sklearn.qda import QDA\n",
    "import random\n",
    "pd.set_option('display.max_rows', 30)"
   ]
  },
  {
   "cell_type": "code",
   "execution_count": 183,
   "metadata": {
    "collapsed": true
   },
   "outputs": [],
   "source": [
    "#Settings\n",
    "t_data_perc = 0.3333"
   ]
  },
  {
   "cell_type": "code",
   "execution_count": 184,
   "metadata": {
    "collapsed": false
   },
   "outputs": [],
   "source": [
    "#Read cancer data from the excel file\n",
    "df = pd.read_excel('dataTable.xlsx', sheetname = 0, header = 0)\n",
    "x1 = np.array(df['NADH_Intensity_B']).reshape(-1,1)\n",
    "y1 = np.array(df['Fad_Intensity_G']).reshape(-1,1)\n",
    "z1 = np.array(df['redoxRatioPix']).reshape(-1,1)\n",
    "cancer_pt = np.hstack([x1, y1, z1])\n",
    "\n",
    "#Read normal data from the excel file\n",
    "df2 = pd.read_excel('dataTable.xlsx', sheetname = 1, header = 0)\n",
    "x2 = np.array(df2['NADH_Intensity_B']).reshape(-1,1)\n",
    "y2 = np.array(df2['Fad_Intensity_G']).reshape(-1,1)\n",
    "z2 = np.array(df2['redoxRatioPix']).reshape(-1,1)\n",
    "normal_pt = np.hstack([x2, y2, z2])\n",
    "\n",
    "norDataNum, normal_ndim = normal_pt.shape\n",
    "cnDataNum, cancer_ndim = cancer_pt.shape\n",
    "\n",
    "#Sort given training data with corresponding labels\n",
    "nor_n = np.zeros(int(normal_pt.size/normal_ndim))\n",
    "can_n = np.ones(int(cancer_pt.size/cancer_ndim))\n",
    "labels = np.hstack((nor_n, can_n))\n",
    "train_data = np.vstack((normal_pt, cancer_pt))"
   ]
  },
  {
   "cell_type": "code",
   "execution_count": 185,
   "metadata": {
    "collapsed": true
   },
   "outputs": [],
   "source": [
    "def randTestData(perc, size):\n",
    "    \n",
    "    if perc > 1:\n",
    "        perc = 1\n",
    "    \n",
    "    smpSize = int(perc*size)\n",
    "    labelTesting = np.ones(size) == 1\n",
    "    smpIndice = random.sample(list(range(0, size)), smpSize)\n",
    "    \n",
    "    for i in smpIndice:\n",
    "        labelTesting[i] = False\n",
    "    \n",
    "    return size-smpSize, labelTesting"
   ]
  },
  {
   "cell_type": "code",
   "execution_count": 186,
   "metadata": {
    "collapsed": false
   },
   "outputs": [],
   "source": [
    "def QDAResult3D():\n",
    "\n",
    "    norTrainNum, nor_isTraining = randTestData(t_data_perc, norDataNum)\n",
    "    cnTrainNum, cn_isTraining = randTestData(t_data_perc, cnDataNum)\n",
    "    isTraining =np.hstack((nor_isTraining, cn_isTraining))\n",
    "\n",
    "    #Training QDA classifier\n",
    "    clf = QDA()\n",
    "    trained_clf = clf.fit(train_data[isTraining], labels[isTraining])\n",
    "\n",
    "     #Using the remaining data for testing\n",
    "    normal_pred = trained_clf.predict(normal_pt[nor_isTraining == False])\n",
    "    trueneg_n = (normal_pred == 0).sum()\n",
    "    specificity = trueneg_n/int(norDataNum - norTrainNum)\n",
    "\n",
    "    cancer_pred = trained_clf.predict(cancer_pt[cn_isTraining == False])\n",
    "    truepos_n = (cancer_pred == 1).sum()\n",
    "    sensitivity = truepos_n/int(cnDataNum - cnTrainNum)\n",
    "    \n",
    "    return sensitivity, specificity"
   ]
  },
  {
   "cell_type": "code",
   "execution_count": null,
   "metadata": {
    "collapsed": false,
    "scrolled": true
   },
   "outputs": [
    {
     "name": "stdout",
     "output_type": "stream",
     "text": [
      "0.583333333333 0.625\n"
     ]
    }
   ],
   "source": [
    "result = np.zeros(40).reshape((20, 2))\n",
    "\n",
    "for i in range(20):\n",
    "    result[i] = QDAResult3D()\n",
    "\n",
    "specAvr = result[:, 1].sum()/20\n",
    "sp_min = result[:, 1].min()\n",
    "sp_max = result[:, 1].max()\n",
    "sensAvr = result[:, 0].sum()/20\n",
    "sn_min = result[:, 0].min()\n",
    "sn_max = result[:, 0].max()\n"
   ]
  },
  {
   "cell_type": "code",
   "execution_count": null,
   "metadata": {
    "collapsed": false
   },
   "outputs": [],
   "source": [
    "#plot the result in 3D\n",
    "fig = plt.figure()\n",
    "ax = fig.add_subplot(111, projection='3d')\n",
    "ax.scatter(x1.ravel(), y1.ravel(), z1.ravel(), c = 'r', marker = 'o', label = 'Cancer(N =' + str(cnDataNum) +')')\n",
    "ax.scatter(x2.ravel(), y2.ravel(), z2.ravel(), c = 'b', marker = '^', label = 'Normal(N =' + str(norDataNum) +')')\n",
    "\n",
    "plt.axis('tight')\n",
    "plt.title('Specificity: ' + '{0:.3f}'.format(specAvr) +  ' ; ' + 'Sensitivity:' + '{0:.3f}'.format(sensAvr), fontsize = 12)\n",
    "plt.suptitle('NADH intensity - FAD intensity - Heterogeneit redox', fontsize = 14)\n",
    "ax.set_xlabel('nadh_intensity')\n",
    "ax.set_ylabel('fad_intensity')\n",
    "ax.set_zlabel('redox_hetero')\n",
    "plt.legend()\n",
    "plt.show()"
   ]
  },
  {
   "cell_type": "code",
   "execution_count": null,
   "metadata": {
    "collapsed": true
   },
   "outputs": [],
   "source": [
    "print (specAvr, sp_max, sp_min, sensAvr, sn_max, sn_min)"
   ]
  }
 ],
 "metadata": {
  "kernelspec": {
   "display_name": "Python 3",
   "language": "python",
   "name": "python3"
  },
  "language_info": {
   "codemirror_mode": {
    "name": "ipython",
    "version": 3
   },
   "file_extension": ".py",
   "mimetype": "text/x-python",
   "name": "python",
   "nbconvert_exporter": "python",
   "pygments_lexer": "ipython3",
   "version": "3.4.3"
  }
 },
 "nbformat": 4,
 "nbformat_minor": 0
}
