{
 "cells": [
  {
   "cell_type": "code",
   "execution_count": 1,
   "metadata": {
    "collapsed": false
   },
   "outputs": [],
   "source": [
    "from Tkinter import *        \n",
    "from PIL import ImageTk, Image\n",
    "\n",
    "app_root = Tk()\n",
    "\n",
    "#Setting it up\n",
    "img = ImageTk.PhotoImage(Image.open(\"test.bmp\"))\n",
    "\n",
    "#Displaying it\n",
    "imglabel = Label(app_root, image=img).grid(row=1, column=1)        \n",
    "\n",
    "app_root.mainloop()"
   ]
  }
 ],
 "metadata": {
  "kernelspec": {
   "display_name": "Python 3",
   "language": "python",
   "name": "python3"
  },
  "language_info": {
   "codemirror_mode": {
    "name": "ipython",
    "version": 3
   },
   "file_extension": ".py",
   "mimetype": "text/x-python",
   "name": "python",
   "nbconvert_exporter": "python",
   "pygments_lexer": "ipython3",
   "version": "3.4.3"
  }
 },
 "nbformat": 4,
 "nbformat_minor": 0
}
