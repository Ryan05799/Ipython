{
 "cells": [
  {
   "cell_type": "code",
   "execution_count": 95,
   "metadata": {
    "collapsed": false
   },
   "outputs": [],
   "source": [
    "import pandas as pd\n",
    "from scipy import linalg\n",
    "import numpy as np\n",
    "import matplotlib.pyplot as plt\n",
    "import matplotlib as mpl\n",
    "from matplotlib import colors\n",
    "#%matplotlib inline\n",
    "\n",
    "from sklearn.lda import LDA\n",
    "from sklearn.qda import QDA\n",
    "import os.path\n",
    "\n",
    "pd.set_option('display.max_rows', 30)\n",
    "\n"
   ]
  },
  {
   "cell_type": "code",
   "execution_count": 96,
   "metadata": {
    "collapsed": false
   },
   "outputs": [
    {
     "data": {
      "text/plain": [
       "True"
      ]
     },
     "execution_count": 96,
     "metadata": {},
     "output_type": "execute_result"
    }
   ],
   "source": [
    "os.path.isfile('feat.xlsx') "
   ]
  },
  {
   "cell_type": "code",
   "execution_count": 97,
   "metadata": {
    "collapsed": false
   },
   "outputs": [],
   "source": [
    "#Settings\n",
    "xl_filename = 'feat.xlsx'\n",
    "feature_x = 'NADH_Intensity_B'\n",
    "feature_y = 'NADH_hetero_B'\n",
    "# feature_x = 'Fad_Intensity_G'\n",
    "# feature_y = 'Fad_hetero_G'\n",
    "# feature_y = 'redoxRatioPix'\n",
    "# feature_y = 'redoxRatioGrid'\n",
    "\n",
    "inRedox = False\n",
    "\n",
    "yaxis_range = 255\n",
    "xaxis_range = 255\n",
    "yaxis_range_rdx = 0.15\n",
    "grid_resol = 255"
   ]
  },
  {
   "cell_type": "code",
   "execution_count": 98,
   "metadata": {
    "collapsed": false
   },
   "outputs": [],
   "source": [
    "#Read cancer data from the excel file\n",
    "df = pd.read_excel(xl_filename, sheetname = 0, header = 1)\n",
    "x = np.array(df[feature_x])\n",
    "X = x.reshape(-1,1)\n",
    "y = np.array(df[feature_y])\n",
    "Y = y.reshape(-1,1)\n",
    "cancer_pt = np.hstack([X,Y])"
   ]
  },
  {
   "cell_type": "code",
   "execution_count": 99,
   "metadata": {
    "collapsed": false
   },
   "outputs": [],
   "source": [
    "#Read normal data from the excel file\n",
    "df2 = pd.read_excel(xl_filename, sheetname = 1, header = 1)\n",
    "x2 = np.array(df2[feature_x]).reshape(-1,1)\n",
    "y2 = np.array(df2[feature_y]).reshape(-1,1)\n",
    "normal_pt = np.hstack([x2, y2])\n",
    "\n"
   ]
  },
  {
   "cell_type": "code",
   "execution_count": 100,
   "metadata": {
    "collapsed": false
   },
   "outputs": [],
   "source": [
    "#Sort given training data with corresponding labels\n",
    "normal_ndata,normal_ndim = normal_pt.shape\n",
    "cancer_ndata,cancer_ndim = cancer_pt.shape\n",
    "nor_n = np.zeros(int(normal_ndata))\n",
    "can_n = np.ones(int(cancer_ndata))\n",
    "labels = np.hstack((nor_n, can_n))\n",
    "train_data = np.vstack((normal_pt, cancer_pt))"
   ]
  },
  {
   "cell_type": "code",
   "execution_count": 101,
   "metadata": {
    "collapsed": false
   },
   "outputs": [],
   "source": [
    "clf = QDA()\n",
    "trained_clf = clf.fit(train_data, labels)\n",
    "normal_pred = trained_clf.predict(normal_pt)\n",
    "trueneg_n = (normal_pred == 0).sum()\n",
    "specificity = trueneg_n/int(normal_pt.size/normal_pt.ndim)"
   ]
  },
  {
   "cell_type": "code",
   "execution_count": 102,
   "metadata": {
    "collapsed": false
   },
   "outputs": [],
   "source": [
    "cancer_pred = trained_clf.predict(cancer_pt)\n",
    "truepos_n = (cancer_pred == 1).sum()\n",
    "sensitivity = truepos_n/int(cancer_pt.size/cancer_pt.ndim)"
   ]
  },
  {
   "cell_type": "code",
   "execution_count": 103,
   "metadata": {
    "collapsed": false
   },
   "outputs": [],
   "source": [
    "#Generate grids for the entire plot\n",
    "if inRedox:\n",
    "    xx, yy = np.meshgrid(np.linspace(0, xaxis_range, grid_resol), np.linspace(0, yaxis_range_rdx , grid_resol))\n",
    "else:\n",
    "    xx, yy = np.meshgrid(np.linspace(0, xaxis_range, grid_resol), np.linspace(0, yaxis_range, grid_resol))\n",
    "\n",
    "plot_grid = np.c_[xx.ravel(), yy.ravel()]\n",
    "\n",
    "#Calculate the prediction probability for each point on the grid\n",
    "grid_z = clf.predict_proba(plot_grid)[:,1].reshape(xx.shape)\n"
   ]
  },
  {
   "cell_type": "code",
   "execution_count": 104,
   "metadata": {
    "collapsed": false
   },
   "outputs": [],
   "source": [
    "plt.figure()\n",
    "plt.contour(xx, yy, grid_z, [0.5], linewidths=2., colors='k')\n",
    "\n",
    "plt.scatter(X, Y, c = 'r', marker = '^', label = 'Cancer (N =' + str(cancer_pt.size/2) +')')\n",
    "plt.scatter(x2, y2, c = 'b', marker = 'o', label = 'Normal(N =' + str(normal_pt.size/2) +')')\n",
    "\n",
    "plt.axis('tight')\n",
    "plt.xlabel(feature_x, fontsize = 'large')\n",
    "plt.ylabel(feature_y, fontsize = 'large')\n",
    "plt.legend()\n",
    "plt.suptitle(feature_x + ' vs. ' + feature_y, fontsize = 16)\n",
    "plt.title('Specificity: ' + '{0:.3f}'.format(specificity) +  ' ; ' + 'Sensitivity:' + '{0:.3f}'.format(sensitivity), fontsize = 12)\n",
    "plt.savefig(feature_x + '_vs._' + feature_y + '.jpg')\n",
    "plt.show()"
   ]
  },
  {
   "cell_type": "code",
   "execution_count": null,
   "metadata": {
    "collapsed": true
   },
   "outputs": [],
   "source": []
  }
 ],
 "metadata": {
  "kernelspec": {
   "display_name": "Python 3",
   "language": "python",
   "name": "python3"
  },
  "language_info": {
   "codemirror_mode": {
    "name": "ipython",
    "version": 3
   },
   "file_extension": ".py",
   "mimetype": "text/x-python",
   "name": "python",
   "nbconvert_exporter": "python",
   "pygments_lexer": "ipython3",
   "version": "3.4.3"
  }
 },
 "nbformat": 4,
 "nbformat_minor": 0
}
