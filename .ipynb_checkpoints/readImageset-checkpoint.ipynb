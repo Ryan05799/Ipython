{
 "cells": [
  {
   "cell_type": "code",
   "execution_count": 74,
   "metadata": {
    "collapsed": false
   },
   "outputs": [],
   "source": [
    "import matplotlib.pyplot as plt\n",
    "import os\n",
    "import pandas as pd\n",
    "import numpy as np\n",
    "\n",
    "from skimage import data, io\n"
   ]
  },
  {
   "cell_type": "code",
   "execution_count": 75,
   "metadata": {
    "collapsed": true
   },
   "outputs": [],
   "source": [
    "def getFiles(dirName):\n",
    "    \n",
    "    if os.path.exists(dirName):\n",
    "        try:\n",
    "            files = os.listdir(dirName)\n",
    "        except Exception as e:\n",
    "            print(e)\n",
    "    else:\n",
    "        files = None\n",
    "    \n",
    "    return files"
   ]
  },
  {
   "cell_type": "code",
   "execution_count": 76,
   "metadata": {
    "collapsed": false
   },
   "outputs": [],
   "source": [
    "patientID = '16588000'\n",
    "r_dirpath = './16588000'\n",
    "fl = getFiles(r_dirpath)"
   ]
  },
  {
   "cell_type": "code",
   "execution_count": 77,
   "metadata": {
    "collapsed": false
   },
   "outputs": [],
   "source": [
    "NadhImg = data.imread(r_dirpath + '/'+ fl[0])\n",
    "FadImg = data.imread(r_dirpath + '/'+ fl[1])\n",
    "maskimg = data.imread(r_dirpath + '/'+ fl[2])"
   ]
  },
  {
   "cell_type": "code",
   "execution_count": 78,
   "metadata": {
    "collapsed": true
   },
   "outputs": [],
   "source": [
    "NadhImg[maskimg == 0] = 0\n",
    "FadImg[maskimg == 0] = 0"
   ]
  },
  {
   "cell_type": "code",
   "execution_count": 79,
   "metadata": {
    "collapsed": false
   },
   "outputs": [],
   "source": [
    "def rgbAver(chan, imgarr, msk):\n",
    "    #set chan to 0, 1, 2 for R, G, B channel\n",
    "    #set chan to -1 for gray level\n",
    "    avr = 0.0\n",
    "    \n",
    "    if chan < 0:\n",
    "        grayimg = imgarr[:, :, 0] * 0.299 + imgarr[:, :, 1] * 0.587 + imgarr[:, :, 2] * 0.114\n",
    "        avr = np.average(grayimg[msk != 0])\n",
    "        return avr\n",
    "        \n",
    "    elif chan < 3:\n",
    "        imgChan = imgarr[:, :, chan]\n",
    "        avr = np.average(imgChan[msk != 0])\n",
    "        return avr\n",
    "\n",
    "        \n",
    "    return None"
   ]
  },
  {
   "cell_type": "code",
   "execution_count": 80,
   "metadata": {
    "collapsed": false
   },
   "outputs": [],
   "source": [
    "def rgbStd(chan, imgarr, msk):\n",
    "    #set chan to 0, 1, 2 for R, G, B channel\n",
    "    #set chan to -1 for gray level\n",
    "    if chan < 0:\n",
    "        grayimg = imgarr[:, :, 0] * 0.299 + imgarr[:, :, 1] * 0.587 + imgarr[:, :, 2] * 0.114\n",
    "        std = np.std(grayimg[msk != 0])\n",
    "        return std\n",
    "        \n",
    "    elif chan < 3:\n",
    "        imgChan = imgarr[:, :, chan]\n",
    "        std = np.std(imgChan[msk != 0])\n",
    "        return std\n",
    "        \n",
    "    return None\n",
    "    "
   ]
  },
  {
   "cell_type": "code",
   "execution_count": 81,
   "metadata": {
    "collapsed": true
   },
   "outputs": [],
   "source": [
    "#Generate the pixel by pixel redox ratio\n",
    "#RR = img1/(img1 + img2)\n",
    "\n",
    "def redoxRatioPix(img1, img2, mask):\n",
    "    img_h, img_w = mask.shape\n",
    "    redoxImg = np.zeros(img_h * img_w).reshape((img_h, img_w))\n",
    "    \n",
    "    for y in range(img_h):\n",
    "        for x in range(img_w):\n",
    "            if maskimg[y, x] != 0:\n",
    "                redoxImg[y, x] = float(img1[y, x]) / (float(img1[y, x]) + float(img2[y, x]))\n",
    "    \n",
    "    #Standard Variation of the redox ratio image\n",
    "    RedoxStd = np.std(redoxImg[maskimg != 0])\n",
    "    \n",
    "    \n",
    "    return redoxImg, RedoxStd"
   ]
  },
  {
   "cell_type": "code",
   "execution_count": 82,
   "metadata": {
    "collapsed": true
   },
   "outputs": [],
   "source": [
    "#Generate the grid by grid redox ratio\n",
    "#Each grid has the size of 3x3\n",
    "#RR = img1/(img1 + img2)\n",
    "\n",
    "def redoxRatioGrid(imgG1, imgG2, mask):\n",
    "    \n",
    "    #initialize grids to zeros\n",
    "    grid_h = int(mask.shape[0]/3)\n",
    "    grid_w = int(mask.shape[1]/3)\n",
    "    gridNadh = np.zeros(grid_h * grid_w).reshape((grid_h, grid_w))\n",
    "    gridFad = np.zeros(grid_h * grid_w).reshape((grid_h, grid_w))\n",
    "    gridRedox = np.zeros(grid_h * grid_w).reshape((grid_h, grid_w))\n",
    "\n",
    "    redoxImg = np.zeros(mask.size).reshape(mask.shape)\n",
    "\n",
    "    #Calculate the redox ratio for each grid\n",
    "    for y in range(grid_h):\n",
    "        for x in range(grid_w):\n",
    "            \n",
    "            window = maskimg[3*y:3*y+3, 3*x:3*x+3]\n",
    "            validPixNum = (window != 0).sum()\n",
    "            \n",
    "            #Only grids that has more than 1 pixel is in ROI will be taken into calculation\n",
    "            if validPixNum != 0:\n",
    "                gridNadh[y][x] = int(imgG1[3*y:3*y+3, 3*x:3*x+3].sum()/validPixNum)\n",
    "                gridFad[y][x] = int(imgG2[3*y:3*y+3, 3*x:3*x+3].sum()/validPixNum)\n",
    "                gridRedox[y][x] = gridNadh[y][x]/(gridNadh[y][x] + gridFad[y][x])\n",
    "                \n",
    "                #Map the grids into the original image size\n",
    "                redoxImg[3*y:3*y+3, 3*x:3*x+3] = gridRedox[y][x]\n",
    "    \n",
    "    #Standard Variation of the redox ratio image\n",
    "    ROI = redoxImg[mask != 0]\n",
    "    RedoxStd = np.std(ROI)\n",
    "    \n",
    "    return redoxImg, RedoxStd"
   ]
  },
  {
   "cell_type": "code",
   "execution_count": 83,
   "metadata": {
    "collapsed": false
   },
   "outputs": [],
   "source": [
    "#Generate feature table dict\n",
    "featureTable = {'data ID': }\n",
    "featureTable['NADH_Intensity_R'] = rgbAver(0, NadhImg, maskimg)\n",
    "featureTable['NADH_Intensity_G'] = rgbAver(1, NadhImg, maskimg)\n",
    "featureTable['NADH_Intensity_B'] = rgbAver(2, NadhImg, maskimg)\n",
    "featureTable['NADH_Intensity_Graylevel'] = rgbAver(-1, NadhImg, maskimg)\n",
    "featureTable['NADH_std_R'] = rgbStd(0, NadhImg, maskimg)\n",
    "featureTable['NADH_std_G'] = rgbStd(1, NadhImg, maskimg)\n",
    "featureTable['NADH_std_B'] = rgbStd(2, NadhImg, maskimg)\n",
    "\n",
    "featureTable['Fad_Intensity_R'] = rgbAver(0, FadImg, maskimg)\n",
    "featureTable['Fad_Intensity_G'] = rgbAver(1, FadImg, maskimg)\n",
    "featureTable['Fad_Intensity_B'] = rgbAver(2, FadImg, maskimg)\n",
    "featureTable['Fad_Intensity_Graylevel'] = rgbAver(-1, FadImg, maskimg)\n",
    "featureTable['Fad_std_R'] = rgbStd(0, FadImg, maskimg)\n",
    "featureTable['Fad_std_G'] = rgbStd(1, FadImg, maskimg)\n",
    "featureTable['Fad_std_B'] = rgbStd(2, FadImg, maskimg)\n",
    "\n",
    "redoxImgPix, featureTable['redoxRatioPix'] = redoxRatioPix(NadhImg[:, :, 2], FadImg[:, :, 1], maskimg)\n",
    "redoxImgGrid, featureTable['redoxRatioGrid'] = redoxRatioGrid(NadhImg[:, :, 2], FadImg[:, :, 1], maskimg)\n"
   ]
  },
  {
   "cell_type": "code",
   "execution_count": 84,
   "metadata": {
    "collapsed": false
   },
   "outputs": [],
   "source": [
    "#Output results\n",
    "writer = pd.ExcelWriter(r_dirpath + '/feature_result.xlsx')\n",
    "dfout = pd.DataFrame(featureTable, index = [0])\n",
    "dfout.to_excel(writer, 'sheet1')\n",
    "writer.save()\n",
    "\n",
    "sp1 = plt.subplot(221)\n",
    "sp1.set_title('NADH ROI')\n",
    "io.imshow(NadhImg)\n",
    "\n",
    "sp2 = plt.subplot(222)\n",
    "sp2.set_title('FAD ROI')\n",
    "io.imshow(FadImg)\n",
    "\n",
    "sp3 = plt.subplot(223)\n",
    "sp3.set_title('Redox ratio image (pixels)')\n",
    "io.imshow(redoxImgPix)\n",
    "\n",
    "sp4 = plt.subplot(224)\n",
    "sp4.set_title('Redox ratio image (Grids)')\n",
    "io.imshow(redoxImgGrid)\n",
    "\n",
    "plt.savefig(r_dirpath + '/redox ratio.jpg')\n"
   ]
  },
  {
   "cell_type": "code",
   "execution_count": null,
   "metadata": {
    "collapsed": false
   },
   "outputs": [],
   "source": []
  }
 ],
 "metadata": {
  "kernelspec": {
   "display_name": "Python 3",
   "language": "python",
   "name": "python3"
  },
  "language_info": {
   "codemirror_mode": {
    "name": "ipython",
    "version": 3
   },
   "file_extension": ".py",
   "mimetype": "text/x-python",
   "name": "python",
   "nbconvert_exporter": "python",
   "pygments_lexer": "ipython3",
   "version": "3.4.3"
  }
 },
 "nbformat": 4,
 "nbformat_minor": 0
}
