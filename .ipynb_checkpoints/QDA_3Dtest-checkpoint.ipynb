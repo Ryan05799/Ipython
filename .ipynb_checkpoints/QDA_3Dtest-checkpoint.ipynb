{
 "cells": [
  {
   "cell_type": "code",
   "execution_count": null,
   "metadata": {
    "collapsed": true
   },
   "outputs": [],
   "source": [
    "import pandas as pd\n",
    "from scipy import linalg\n",
    "import numpy as np\n",
    "import matplotlib.pyplot as plt\n",
    "import matplotlib as mpl\n",
    "from matplotlib import colors\n",
    "%matplotlib inline\n",
    "\n",
    "from sklearn.lda import LDA\n",
    "from sklearn.qda import QDA\n",
    "pd.set_option('display.max_rows', 30)\n"
   ]
  },
  {
   "cell_type": "code",
   "execution_count": null,
   "metadata": {
    "collapsed": true
   },
   "outputs": [],
   "source": [
    "#Read cancer data from the excel file\n",
    "df = pd.read_excel('feat.xlsx', sheetname = 0, header = 1)\n",
    "x1 = np.array(df['nadh_intensity']).reshape(-1,1)\n",
    "y1 = np.array(df['fad_intensity']).reshape(-1,1)\n",
    "z1 = np.array(df['redox_hetero']).reshape(-1,1)\n",
    "cancer_pt = np.hstack([x1, y1, z1])\n",
    "\n",
    "#Read normal data from the excel file\n",
    "df2 = pd.read_excel('feat.xlsx', sheetname = 1, header = 1)\n",
    "x2 = np.array(df['nadh_intensity']).reshape(-1,1)\n",
    "y2 = np.array(df['fad_intensity']).reshape(-1,1)\n",
    "z2 = np.array(df['redox_hetero']).reshape(-1,1)\n",
    "normal_pt = np.hstack([x2, y2, z2])"
   ]
  }
 ],
 "metadata": {
  "kernelspec": {
   "display_name": "Python 3",
   "language": "python",
   "name": "python3"
  },
  "language_info": {
   "codemirror_mode": {
    "name": "ipython",
    "version": 3
   },
   "file_extension": ".py",
   "mimetype": "text/x-python",
   "name": "python",
   "nbconvert_exporter": "python",
   "pygments_lexer": "ipython3",
   "version": "3.4.3"
  }
 },
 "nbformat": 4,
 "nbformat_minor": 0
}
