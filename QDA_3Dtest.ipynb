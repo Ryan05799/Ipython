{
 "cells": [
  {
   "cell_type": "code",
   "execution_count": 11,
   "metadata": {
    "collapsed": true
   },
   "outputs": [],
   "source": [
    "import pandas as pd\n",
    "from scipy import linalg\n",
    "import numpy as np\n",
    "import matplotlib.pyplot as plt\n",
    "import matplotlib as mpl\n",
    "from matplotlib import colors\n",
    "from mpl_toolkits.mplot3d import Axes3D\n",
    "from sklearn.qda import QDA\n",
    "pd.set_option('display.max_rows', 30)\n"
   ]
  },
  {
   "cell_type": "code",
   "execution_count": 12,
   "metadata": {
    "collapsed": false
   },
   "outputs": [],
   "source": [
    "#Read cancer data from the excel file\n",
    "df = pd.read_excel('dataTable.xlsx', sheetname = 0, header = 0)\n",
    "x1 = np.array(df['NADH_Intensity_B']).reshape(-1,1)\n",
    "y1 = np.array(df['Fad_Intensity_G']).reshape(-1,1)\n",
    "z1 = np.array(df['redoxRatioPix']).reshape(-1,1)\n",
    "cancer_pt = np.hstack([x1, y1, z1])\n",
    "\n",
    "#Read normal data from the excel file\n",
    "df2 = pd.read_excel('dataTable.xlsx', sheetname = 1, header = 0)\n",
    "x2 = np.array(df2['NADH_Intensity_B']).reshape(-1,1)\n",
    "y2 = np.array(df2['Fad_Intensity_G']).reshape(-1,1)\n",
    "z2 = np.array(df2['redoxRatioPix']).reshape(-1,1)\n",
    "normal_pt = np.hstack([x2, y2, z2])"
   ]
  },
  {
   "cell_type": "code",
   "execution_count": 13,
   "metadata": {
    "collapsed": false
   },
   "outputs": [],
   "source": [
    "normal_ndata,normal_ndim = normal_pt.shape\n",
    "cancer_ndata,cancer_ndim = cancer_pt.shape"
   ]
  },
  {
   "cell_type": "code",
   "execution_count": 14,
   "metadata": {
    "collapsed": false
   },
   "outputs": [],
   "source": [
    "#Sort given training data with corresponding labels\n",
    "nor_n = np.zeros(int(normal_pt.size/normal_ndim))\n",
    "can_n = np.ones(int(cancer_pt.size/cancer_ndim))\n",
    "labels = np.hstack((nor_n, can_n))\n",
    "train_data = np.vstack((normal_pt, cancer_pt))"
   ]
  },
  {
   "cell_type": "code",
   "execution_count": 15,
   "metadata": {
    "collapsed": false
   },
   "outputs": [
    {
     "data": {
      "text/plain": [
       "(64, 3)"
      ]
     },
     "execution_count": 15,
     "metadata": {},
     "output_type": "execute_result"
    }
   ],
   "source": [
    "train_data.shape"
   ]
  },
  {
   "cell_type": "code",
   "execution_count": 16,
   "metadata": {
    "collapsed": false
   },
   "outputs": [],
   "source": [
    "clf = QDA()\n",
    "trained_clf = clf.fit(train_data, labels)\n",
    "normal_pred = trained_clf.predict(normal_pt)\n",
    "trueneg_n = (normal_pred == 0).sum()\n",
    "specificity = trueneg_n/int(normal_ndata)"
   ]
  },
  {
   "cell_type": "code",
   "execution_count": 17,
   "metadata": {
    "collapsed": false
   },
   "outputs": [],
   "source": [
    "cancer_pred = trained_clf.predict(cancer_pt)\n",
    "truepos_n = (cancer_pred == 1).sum()\n",
    "sensitivity = truepos_n/int(cancer_ndata)\n"
   ]
  },
  {
   "cell_type": "code",
   "execution_count": 18,
   "metadata": {
    "collapsed": false
   },
   "outputs": [],
   "source": [
    "#Generate grids for the entire plot\n",
    "xx, yy, zz = np.meshgrid(np.linspace(0, 255, 100), np.linspace(0, 255, 100), np.linspace(0, 0.2, 200))\n",
    "plot_grid = np.c_[xx.ravel(), yy.ravel(), zz.ravel()]\n",
    "\n",
    "#Calculate the prediction probability for each point on the grid\n",
    "grid_result = clf.predict_proba(plot_grid)[:,1].reshape(xx.shape)\n"
   ]
  },
  {
   "cell_type": "code",
   "execution_count": 19,
   "metadata": {
    "collapsed": false,
    "scrolled": true
   },
   "outputs": [
    {
     "data": {
      "text/plain": [
       "array([[ 0.04422111,  0.04321608,  0.04221106, ...,  0.        ,\n",
       "         0.        ,  0.        ],\n",
       "       [ 0.04522613,  0.04422111,  0.04321608, ...,  0.        ,\n",
       "         0.        ,  0.        ],\n",
       "       [ 0.04522613,  0.04422111,  0.04321608, ...,  0.        ,\n",
       "         0.        ,  0.        ],\n",
       "       ..., \n",
       "       [ 0.        ,  0.        ,  0.        , ...,  0.03919598,\n",
       "         0.03819095,  0.03819095],\n",
       "       [ 0.        ,  0.        ,  0.        , ...,  0.03919598,\n",
       "         0.03819095,  0.03819095],\n",
       "       [ 0.        ,  0.        ,  0.        , ...,  0.03919598,\n",
       "         0.03819095,  0.03819095]])"
      ]
     },
     "execution_count": 19,
     "metadata": {},
     "output_type": "execute_result"
    }
   ],
   "source": [
    "a = abs(grid_result - 0.5)\n",
    "sur_x, sur_y = np.meshgrid(np.linspace(0, 255, 100), np.linspace(0, 255, 100))\n",
    "sur_z = np.zeros(sur_x.size).reshape(sur_x.shape)\n",
    "\n",
    "sur_z.shape\n",
    "for i in range(100):\n",
    "    for j in range(100):     \n",
    "        sur_z[i][j] = zz[i][j][a[i][j].argmin()]\n",
    "sur_z"
   ]
  },
  {
   "cell_type": "code",
   "execution_count": 20,
   "metadata": {
    "collapsed": false
   },
   "outputs": [],
   "source": [
    "fig = plt.figure()\n",
    "ax = fig.add_subplot(111, projection='3d')\n",
    "ax.scatter(x1.ravel(), y1.ravel(), z1.ravel(), c = 'r', marker = 'o', label = 'Cancer')\n",
    "ax.scatter(x2.ravel(), y2.ravel(), z2.ravel(), c = 'b', marker = '^', label = 'Normal')\n",
    "\n",
    "\n",
    "ax.plot_wireframe(sur_x, sur_y, sur_z,  rstride=10, cstride=10, color='g')\n",
    "\n",
    "plt.axis('tight')\n",
    "plt.title('Specificity: ' + '{0:.3f}'.format(specificity) +  ' ; ' + 'Sensitivity:' + '{0:.3f}'.format(sensitivity), fontsize = 12)\n",
    "plt.suptitle('NADH intensity - FAD intensity - Heterogeneit redox', fontsize = 14)\n",
    "ax.set_xlabel('nadh_intensity')\n",
    "ax.set_ylabel('fad_intensity')\n",
    "ax.set_zlabel('redox_hetero')\n",
    "plt.legend()\n",
    "plt.show()"
   ]
  },
  {
   "cell_type": "code",
   "execution_count": null,
   "metadata": {
    "collapsed": true
   },
   "outputs": [],
   "source": []
  }
 ],
 "metadata": {
  "kernelspec": {
   "display_name": "Python 3",
   "language": "python",
   "name": "python3"
  },
  "language_info": {
   "codemirror_mode": {
    "name": "ipython",
    "version": 3
   },
   "file_extension": ".py",
   "mimetype": "text/x-python",
   "name": "python",
   "nbconvert_exporter": "python",
   "pygments_lexer": "ipython3",
   "version": "3.4.3"
  }
 },
 "nbformat": 4,
 "nbformat_minor": 0
}
