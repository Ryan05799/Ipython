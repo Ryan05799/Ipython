{
 "cells": [
  {
   "cell_type": "code",
   "execution_count": 7,
   "metadata": {
    "collapsed": true
   },
   "outputs": [],
   "source": [
    "import os\n",
    "import os.path\n",
    "from skimage import data, io, color\n",
    "import matplotlib.pyplot as plt\n",
    "import numpy as np"
   ]
  },
  {
   "cell_type": "code",
   "execution_count": 8,
   "metadata": {
    "collapsed": true
   },
   "outputs": [],
   "source": [
    "#Function for converting RGB to YCbCr\n",
    "def rgb2ycbcr(img):\n",
    "    y = 0.299*img[:,:,0] + 0.578*img[:,:,1] + 0.114*img[:,:,2]\n",
    "    cr = 0.5*img[:,:,0] - 0.4187*img[:,:,1] + 0.0813*img[:,:,2] + 128\n",
    "    cb = -0.1687*img[:,:,0] - 0.3313*img[:,:,1] + 0.5*img[:,:,2] + 128\n",
    "    \n",
    "    return y,cb,cr\n",
    "\n",
    "#Main function for remove the reflectance of given image\n",
    "#ROI mask must be given\n",
    "def rmReflect(img, roiMask, threshold = 0):\n",
    "    \n",
    "    #Generate lamda factor    \n",
    "    yChan, cbChan, crChan = rgb2ycbcr(img)   \n",
    "    gamma = yChan/(yChan+cbChan+crChan)\n",
    "    \n",
    "    maxRgb = np.amax(img, axis = 2)\n",
    "    #Generate lamda factor\n",
    "    rgbSum = img[:, :, 0] + img[:, :, 1] + img[:, :, 2]\n",
    "    lamb = maxRgb\n",
    "    lamb[roiMask != 0] = lamb[roiMask != 0]/rgbSum[roiMask != 0]\n",
    "    \n",
    "    #Mark the pixels whose luminace values are low than the threshold as 255(white)\n",
    "    luminace = (gamma - lamb)*255\n",
    "    mask = np.zeros(luminace.size).reshape(luminace.shape)\n",
    "    mask[luminace >= threshold ] = 0    \n",
    "    mask[luminace < threshold] = 255\n",
    "    \n",
    "    img[roiMask == 0] = 0\n",
    "    \n",
    "    #remove the reflectance regions within the ROI\n",
    "    roiMask[mask == 255] = 0\n",
    "    \n",
    "    return img, roiMask"
   ]
  }
 ],
 "metadata": {
  "kernelspec": {
   "display_name": "Python 3",
   "language": "python",
   "name": "python3"
  },
  "language_info": {
   "codemirror_mode": {
    "name": "ipython",
    "version": 3
   },
   "file_extension": ".py",
   "mimetype": "text/x-python",
   "name": "python",
   "nbconvert_exporter": "python",
   "pygments_lexer": "ipython3",
   "version": "3.4.3"
  }
 },
 "nbformat": 4,
 "nbformat_minor": 0
}
