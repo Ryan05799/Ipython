{
 "cells": [
  {
   "cell_type": "code",
   "execution_count": 4,
   "metadata": {
    "collapsed": false
   },
   "outputs": [],
   "source": [
    "from tkinter import *\n",
    "from tkinter import filedialog\n",
    "from tkinter.filedialog import askopenfilename\n",
    "from PIL import Image, ImageTk,ImageDraw\n",
    "\n",
    "defaultImgWidth = 640\n",
    "defaultImgHeight = 480\n",
    "filePath = './'\n",
    "\n",
    "if __name__ == \"__main__\":\n",
    "    root = Tk()\n",
    "    root.wm_title('ROI Select')\n",
    "    root.config(background = \"#BBBBBB\")   \n",
    "    \n",
    "    img = ImageTk.PhotoImage(Image.open(\"test.bmp\"))\n",
    "    img2 = ImageTk.PhotoImage(Image.open(\"test.bmp\"))\n",
    "    \n",
    "    #Binding Events for buttons, mouse click and pressing key  \n",
    "    #Function for loading image file, called when btnLoad is click\n",
    "    def loadImage():\n",
    "        File = askopenfilename(parent=root, initialdir=\"./\",title='Choose an image.')\n",
    "        img2 = ImageTk.PhotoImage(Image.open(File)) \n",
    "        \n",
    "        filePath = File\n",
    "        logcat.insert(0.0, 'Load image from ' + filePath + '\\n')\n",
    "        \n",
    "    def applyRoi():\n",
    "        imgCanvas.itemconfig(test, image = img2)\n",
    "        logcat.insert(0.0, 'Roi applied\\n')\n",
    "\n",
    "    def saveResult():\n",
    "        logcat.insert(0.0, 'Save file to\\n')\n",
    "    \n",
    "    def enterForApply(event):\n",
    "        logcat.insert(0.0, 'Roi applied\\n')\n",
    "        \n",
    "    \n",
    "    \n",
    "    #Initialize widgets\n",
    "    #Frames\n",
    "    imgFrame = Frame(root, width = defaultImgWidth * 1.5 , height = defaultImgHeight)\n",
    "    imgFrame.grid(row=0, column=0, padx=10, pady=10)\n",
    "    btnFrame = Frame(root, width = 200, height = defaultImgHeight)\n",
    "    btnFrame.grid(row=0, column=1, padx=10, pady=10)\n",
    "    logFrame = Frame(root, width = 200 + defaultImgWidth, height = 100)\n",
    "    logFrame.grid(row=1, column=0, padx=10, pady=10)\n",
    "    #Canvas\n",
    "    imgCanvas = Canvas(imgFrame, bd = 0, width = defaultImgWidth, height = defaultImgHeight)\n",
    "    imgCanvas.grid(row=0, column=0)\n",
    "    test = imgCanvas.create_image(0,0,image = img ,anchor=\"nw\")\n",
    "    \n",
    "#     rCanvas = Canvas(imgFrame, bd = 0, width = defaultImgWidth, height = defaultImgHeight)\n",
    "#     rCanvas.grid(row=0, column=1)   \n",
    "    \n",
    "    #Buttons\n",
    "    btnLoad = Button(btnFrame, text = \"Load Image\", command = loadImage)\n",
    "    btnLoad.grid(row = 0, column = 0, padx = 10, pady = 20)\n",
    "    btnApply = Button(btnFrame, text = \"Apply\", command = applyRoi)\n",
    "    btnApply.grid(row = 1, column = 0, padx = 10, pady = 20)\n",
    "    btnSave = Button(btnFrame, text = \"Save ROI Mask\", command = saveResult)\n",
    "    btnSave.grid(row = 2, column = 0, padx = 10, pady = 20)\n",
    "    \n",
    "    #Text\n",
    "    logcat = Text(logFrame, width = 100, height = 10 )\n",
    "    logcat.grid(row=0, column=0, padx=10, pady=20)\n",
    "    \n",
    "    #Binding events\n",
    "    \n",
    "    \n",
    "    root.mainloop()\n",
    "    "
   ]
  },
  {
   "cell_type": "code",
   "execution_count": null,
   "metadata": {
    "collapsed": false
   },
   "outputs": [],
   "source": []
  }
 ],
 "metadata": {
  "kernelspec": {
   "display_name": "Python 3",
   "language": "python",
   "name": "python3"
  },
  "language_info": {
   "codemirror_mode": {
    "name": "ipython",
    "version": 3
   },
   "file_extension": ".py",
   "mimetype": "text/x-python",
   "name": "python",
   "nbconvert_exporter": "python",
   "pygments_lexer": "ipython3",
   "version": "3.4.3"
  }
 },
 "nbformat": 4,
 "nbformat_minor": 0
}
