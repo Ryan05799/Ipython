{
 "cells": [
  {
   "cell_type": "code",
   "execution_count": 1,
   "metadata": {
    "collapsed": false
   },
   "outputs": [],
   "source": [
    "import os\n",
    "from tkinter import *\n",
    "from tkinter import filedialog\n",
    "from tkinter.filedialog import askopenfilename\n",
    "from PIL import Image, ImageTk,ImageDraw\n",
    "\n",
    "# import\n",
    "#"
   ]
  },
  {
   "cell_type": "code",
   "execution_count": 2,
   "metadata": {
    "collapsed": false
   },
   "outputs": [],
   "source": [
    "\n",
    "if __name__ == \"__main__\":\n",
    "    root = Tk()\n",
    "\n",
    "    \n",
    "    img = ImageTk.PhotoImage(Image.open(\"test.bmp\"))\n",
    "    \n",
    "    w = img.width()\n",
    "    h = img.height()\n",
    "\n",
    "    img2 = ImageTk.PhotoImage(Image.open(\"test.bmp\").resize((int(w/2), int(h/2)), Image.ANTIALIAS))\n",
    "        \n",
    "    #setting up a tkinter canvas with scrollbars\n",
    "    frame = Frame(root, bd=2, relief=SUNKEN)\n",
    "    frame.grid_rowconfigure(0, weight=1)\n",
    "    frame.grid_columnconfigure(0, weight=1)\n",
    "\n",
    "    canvasOri = Canvas(frame, bd=20, width = w, height = h)\n",
    "    canvasOri.grid(row=0, column=0, sticky=N+W)\n",
    "    \n",
    "    canvasSeg = Canvas(frame, bd=20, width = w, height = h)\n",
    "    canvasSeg.grid(row=0, column=1, sticky=N+E) \n",
    "    \n",
    "    frame.pack(fill=BOTH,expand=0)\n",
    "\n",
    "    #adding the image\n",
    "    canvasOri.create_image(0,0,image=img,anchor=\"nw\")\n",
    "    canvasSeg.create_image(0,1,image=img2,anchor=\"nw\")\n",
    "    canvasOri.scale(\"all\", 0, 0, 0.5, 0.5)\n",
    "    canvasSeg.scale(\"all\", 0, 0, 0.5, 0.5)\n",
    "    \n",
    "#     canvasOri.config(scrollregion=canvasOri.bbox(ALL))\n",
    "    canvasSeg.config(scrollregion=canvasOri.bbox(ALL))\n",
    "    \n",
    "    black = (0, 0, 0)\n",
    "#     mask = Image.new(\"RGB\", (w, h), black)\n",
    "    mask = Image.new(\"L\", (w, h), black)\n",
    "    draw = ImageDraw.Draw(mask)            \n",
    "\n",
    "    reset = True\n",
    "    lst = []\n",
    "    lines = []\n",
    "    #function to be called when mouse is clicked\n",
    "    def printcoords(event):\n",
    "        print('draw point')\n",
    "        \n",
    "        (x, y) = (event.x, event.y)\n",
    "\n",
    "        if reset:\n",
    "            last_pt = (x, y)\n",
    "            \n",
    "        if len(lst) > 0:\n",
    "            last_pt = lst[len(lst) - 1]\n",
    "            lines.append(canvasOri.create_line(last_pt, x, y, fill=\"red\"))\n",
    "            \n",
    "        lst.append((x, y))\n",
    "#         dummyLst = []\n",
    "#         for cor in lst:\n",
    "#             dummyLst.append((cor[0]/2, cor[1]/2))\n",
    "#         canvasSeg.create_polygon(dummyLst)\n",
    "#         draw.polygon(lst, fill=\"white\")\n",
    "\n",
    "        \n",
    "    def clearlines(event):\n",
    "        #clear all lines in the list\n",
    "        for line in lines:\n",
    "            canvasOri.delete(line)\n",
    "            canvasOri.update()\n",
    "        \n",
    "        #reset coordinate list\n",
    "        del last_pt\n",
    "        for i in lst:\n",
    "            del i\n",
    "        lst = []\n",
    "        print(len(lst))\n",
    "        reset = True\n",
    "        \n",
    "    def key(event):\n",
    "        print (\"pressed\")\n",
    "\n",
    "    #mouseclick event\n",
    "    canvasOri.bind(\"<Button-1>\",printcoords)\n",
    "    root.bind('<Return>', clearlines)\n",
    "    \n",
    "#     frame.focus_set()\n",
    "    \n",
    "    \n",
    "    root.mainloop()"
   ]
  },
  {
   "cell_type": "code",
   "execution_count": null,
   "metadata": {
    "collapsed": false
   },
   "outputs": [],
   "source": [
    "\n"
   ]
  }
 ],
 "metadata": {
  "kernelspec": {
   "display_name": "Python 3",
   "language": "python",
   "name": "python3"
  },
  "language_info": {
   "codemirror_mode": {
    "name": "ipython",
    "version": 3
   },
   "file_extension": ".py",
   "mimetype": "text/x-python",
   "name": "python",
   "nbconvert_exporter": "python",
   "pygments_lexer": "ipython3",
   "version": "3.4.3"
  }
 },
 "nbformat": 4,
 "nbformat_minor": 0
}
