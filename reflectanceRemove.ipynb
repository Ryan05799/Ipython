{
 "cells": [
  {
   "cell_type": "code",
   "execution_count": 30,
   "metadata": {
    "collapsed": true
   },
   "outputs": [],
   "source": [
    "import os\n",
    "import os.path\n",
    "from skimage import data, io, color\n",
    "import matplotlib.pyplot as plt\n",
    "import pandas as pd\n",
    "import numpy as np"
   ]
  },
  {
   "cell_type": "code",
   "execution_count": 31,
   "metadata": {
    "collapsed": false
   },
   "outputs": [],
   "source": [
    "roi = data.imread('binMask.bmp')\n",
    "img = data.imread('reflectance.bmp')"
   ]
  },
  {
   "cell_type": "code",
   "execution_count": 32,
   "metadata": {
    "collapsed": true
   },
   "outputs": [],
   "source": [
    "def rgb2ycbcr(img):\n",
    "    y = 0.299*img[:,:,0] + 0.578*img[:,:,1] + 0.114*img[:,:,2]\n",
    "    cr = 0.5*img[:,:,0] - 0.4187*img[:,:,1] + 0.0813*img[:,:,2] + 128\n",
    "    cb = -0.1687*img[:,:,0] - 0.3313*img[:,:,1] + 0.5*img[:,:,2] + 128\n",
    "    \n",
    "    return y,cb,cr"
   ]
  },
  {
   "cell_type": "code",
   "execution_count": null,
   "metadata": {
    "collapsed": true
   },
   "outputs": [],
   "source": []
  },
  {
   "cell_type": "code",
   "execution_count": 33,
   "metadata": {
    "collapsed": false
   },
   "outputs": [
    {
     "data": {
      "text/plain": [
       "0.58197479995222745"
      ]
     },
     "execution_count": 33,
     "metadata": {},
     "output_type": "execute_result"
    }
   ],
   "source": [
    "yChan, cbChan, crChan = rgb2ycbcr(img)\n",
    "\n",
    "gamma = yChan/(yChan+cbChan+crChan)\n",
    "gamma.max()"
   ]
  },
  {
   "cell_type": "code",
   "execution_count": 34,
   "metadata": {
    "collapsed": false
   },
   "outputs": [],
   "source": [
    "maxRgb = np.amax(img, axis = 2)\n",
    "rgbSum = img[:, :, 0] + img[:, :, 1] + img[:, :, 2]\n",
    "\n",
    "lamb = maxRgb\n",
    "lamb[roi != 0] = lamb[roi != 0]/rgbSum[roi != 0]\n"
   ]
  },
  {
   "cell_type": "code",
   "execution_count": 37,
   "metadata": {
    "collapsed": false
   },
   "outputs": [
    {
     "data": {
      "text/plain": [
       "-64946.236246122608"
      ]
     },
     "execution_count": 37,
     "metadata": {},
     "output_type": "execute_result"
    }
   ],
   "source": [
    "I = (gamma - lamb)*255\n",
    "I.min()"
   ]
  },
  {
   "cell_type": "code",
   "execution_count": 36,
   "metadata": {
    "collapsed": false
   },
   "outputs": [
    {
     "name": "stderr",
     "output_type": "stream",
     "text": [
      "C:\\Anaconda3\\lib\\site-packages\\skimage\\io\\_plugins\\matplotlib_plugin.py:77: UserWarning: Float image out of standard range; displaying image with stretched contrast.\n",
      "  warnings.warn(\"Float image out of standard range; displaying \"\n"
     ]
    }
   ],
   "source": [
    "mask = np.zeros(I.size).reshape(I.shape)\n",
    "mask[I < 0] = 255\n",
    "mask[I >= 0 ] = 0\n",
    "\n",
    "mask[roi == 0] = 0\n",
    "img[roi == 0] = 0\n",
    "\n",
    "plt.subplot(121)\n",
    "io.imshow(img)\n",
    "plt.subplot(122)\n",
    "io.imshow(mask)\n",
    "plt.show()\n",
    "plt.imsave('binMask_rmReflect.jpg', mask, cmap = plt.cm.gray)"
   ]
  }
 ],
 "metadata": {
  "kernelspec": {
   "display_name": "Python 3",
   "language": "python",
   "name": "python3"
  },
  "language_info": {
   "codemirror_mode": {
    "name": "ipython",
    "version": 3
   },
   "file_extension": ".py",
   "mimetype": "text/x-python",
   "name": "python",
   "nbconvert_exporter": "python",
   "pygments_lexer": "ipython3",
   "version": "3.4.3"
  }
 },
 "nbformat": 4,
 "nbformat_minor": 0
}
