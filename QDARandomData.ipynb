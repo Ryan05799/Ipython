{
 "cells": [
  {
   "cell_type": "code",
   "execution_count": 1,
   "metadata": {
    "collapsed": false
   },
   "outputs": [],
   "source": [
    "import pandas as pd\n",
    "from scipy import linalg\n",
    "import numpy as np\n",
    "import matplotlib.pyplot as plt\n",
    "import matplotlib as mpl\n",
    "from matplotlib import colors\n",
    "#%matplotlib inline\n",
    "import random\n",
    "from sklearn.lda import LDA\n",
    "from sklearn.qda import QDA\n",
    "pd.set_option('display.max_rows', 30)\n",
    "\n",
    "#Settings\n",
    "xl_filename = 'dataTable.xlsx'\n",
    "# feature_x = 'NADH_Intensity_B'\n",
    "# feature_y = 'NADH_std_B'\n",
    "feature_x = 'Fad_Intensity_G'\n",
    "# feature_y = 'Fad_std_G'\n",
    "feature_y = 'redoxRatioPix'\n",
    "inRedox = True\n",
    "\n",
    "yaxis_range = 80\n",
    "xaxis_range = 200\n",
    "yaxis_range_rdx = 0.15\n",
    "grid_resol = 255\n",
    "\n",
    "#Percentage of data being used for training\n",
    "t_data_perc = 0.3333\n",
    "cv_repeat = 20\n",
    "\n",
    "#Read cancer data from the excel file\n",
    "df = pd.read_excel(xl_filename, sheetname = 0, header = 0)\n",
    "x1 = np.array(df[feature_x]).reshape(-1,1)\n",
    "y1 = np.array(df[feature_y]).reshape(-1,1)\n",
    "cancer_pt = np.hstack([x1,y1])\n",
    "\n",
    "#Read normal data from the excel file\n",
    "df2 = pd.read_excel(xl_filename, sheetname = 1, header = 0)\n",
    "x2 = np.array(df2[feature_x]).reshape(-1,1)\n",
    "y2 = np.array(df2[feature_y]).reshape(-1,1)\n",
    "normal_pt = np.hstack([x2, y2])\n",
    "\n"
   ]
  },
  {
   "cell_type": "code",
   "execution_count": 2,
   "metadata": {
    "collapsed": false
   },
   "outputs": [],
   "source": [
    "#Sort given training data with corresponding labels\n",
    "norDataNum,normal_ndim = normal_pt.shape\n",
    "cnDataNum,cancer_ndim = cancer_pt.shape\n",
    "nor_n = np.zeros(int(norDataNum))\n",
    "can_n = np.ones(int(cnDataNum))\n",
    "labels = np.hstack((nor_n, can_n))\n",
    "train_data = np.vstack((normal_pt, cancer_pt))"
   ]
  },
  {
   "cell_type": "code",
   "execution_count": 3,
   "metadata": {
    "collapsed": false
   },
   "outputs": [],
   "source": [
    "def randTestData(perc, size):\n",
    "    \n",
    "    if perc > 1:\n",
    "        perc = 1\n",
    "    \n",
    "    smpSize = int(perc*size)\n",
    "    #initial boolean array\n",
    "    labelTesting = np.ones(size) == 1\n",
    "    smpIndice = random.sample(list(range(0, size)), smpSize)\n",
    "    \n",
    "    for i in smpIndice:\n",
    "        labelTesting[i] = False\n",
    "    \n",
    "    return size-smpSize, labelTesting"
   ]
  },
  {
   "cell_type": "code",
   "execution_count": 4,
   "metadata": {
    "collapsed": false
   },
   "outputs": [],
   "source": [
    "def crossValidate(itr):\n",
    "    norTrainNum, nor_isTraining = randTestData(t_data_perc, norDataNum)\n",
    "    cnTrainNum, cn_isTraining = randTestData(t_data_perc, cnDataNum)\n",
    "    isTraining =np.hstack((nor_isTraining, cn_isTraining))\n",
    "\n",
    "    #Training\n",
    "    clf = QDA()\n",
    "    trained_clf = clf.fit(train_data[isTraining], labels[isTraining])\n",
    "\n",
    "    #Using the remaining data for testing\n",
    "    normal_pred = trained_clf.predict(normal_pt[nor_isTraining == False])\n",
    "    trueneg_n = (normal_pred == 0).sum()\n",
    "    specificity = trueneg_n/int(norDataNum - norTrainNum)\n",
    "\n",
    "    cancer_pred = trained_clf.predict(cancer_pt[cn_isTraining == False])\n",
    "    truepos_n = (cancer_pred == 1).sum()\n",
    "    sensitivity = truepos_n/int(cnDataNum - cnTrainNum)\n",
    "    \n",
    "    #Generate grids for the entire plot\n",
    "    if inRedox:\n",
    "        xx, yy = np.meshgrid(np.linspace(0, xaxis_range, grid_resol), np.linspace(0, yaxis_range_rdx , grid_resol))\n",
    "    else:\n",
    "        xx, yy = np.meshgrid(np.linspace(0, xaxis_range, grid_resol), np.linspace(0, yaxis_range, grid_resol))\n",
    "\n",
    "    plot_grid = np.c_[xx.ravel(), yy.ravel()]\n",
    "\n",
    "    #Calculate the prediction probability for each point on the grid\n",
    "    grid_z = clf.predict_proba(plot_grid)[:,1].reshape(xx.shape)\n",
    "    \n",
    "    \n",
    "    plt.figure()\n",
    "    plt.contour(xx, yy, grid_z, [0.5], linewidths=2., colors='k')\n",
    "    plt.scatter(x1[cn_isTraining == False], y1[cn_isTraining == False], c = 'r', marker = '^', label = 'Cancer (N =' + str(cnDataNum - cnTrainNum) +')')\n",
    "    plt.scatter(x2[nor_isTraining == False], y2[nor_isTraining == False], c = 'g', marker = '^', label = 'Normal(N =' + str(norDataNum - norTrainNum) +')')\n",
    "\n",
    "    plt.scatter(x1[cn_isTraining], y1[cn_isTraining], c = 'r', marker = 'o', label = 'Trn_Cancer (N =' + str(cnTrainNum) +')')\n",
    "    plt.scatter(x2[nor_isTraining], y2[nor_isTraining], c = 'g', marker = 'o', label = 'Trn_Normal(N =' + str(norTrainNum) +')')\n",
    "\n",
    "    plt.axis('tight')\n",
    "    plt.xlabel(feature_x, fontsize = 'large')\n",
    "    plt.ylabel(feature_y, fontsize = 'large')\n",
    "    plt.legend()\n",
    "    plt.suptitle(feature_x + ' vs. ' + feature_y, fontsize = 16)\n",
    "    plt.title('Specificity: ' + '{0:.3f}'.format(specificity) +  ' ; ' + 'Sensitivity:' + '{0:.3f}'.format(sensitivity), fontsize = 12)\n",
    "\n",
    "    plt.savefig('cv' + str(itr) + '.jpg')\n",
    "    \n",
    "    return specificity, sensitivity"
   ]
  },
  {
   "cell_type": "code",
   "execution_count": 5,
   "metadata": {
    "collapsed": false
   },
   "outputs": [],
   "source": [
    "result = np.zeros(cv_repeat * 2).reshape((cv_repeat, 2))\n",
    "\n",
    "for i in range(cv_repeat):\n",
    "    result[i] = crossValidate(i)\n",
    "\n",
    "\n",
    "sp_avr = result[:, 0].sum()/cv_repeat\n",
    "\n",
    "sp_min = result[:, 0].min()\n",
    "\n",
    "sp_max = result[:, 0].max()\n",
    "\n",
    "sn_avr = result[:, 1].sum()/cv_repeat\n",
    "\n",
    "sn_min = result[:, 1].min()\n",
    "\n",
    "sn_max = result[:, 1].max()\n"
   ]
  },
  {
   "cell_type": "code",
   "execution_count": 6,
   "metadata": {
    "collapsed": false
   },
   "outputs": [
    {
     "name": "stdout",
     "output_type": "stream",
     "text": [
      "0.8875 0.666666666667 1.0 0.8 0.5 1.0\n"
     ]
    }
   ],
   "source": [
    "print(sp_avr, sp_min, sp_max, sn_avr, sn_min, sn_max)"
   ]
  },
  {
   "cell_type": "code",
   "execution_count": 7,
   "metadata": {
    "collapsed": false
   },
   "outputs": [
    {
     "data": {
      "text/plain": [
       "array([[ 1.        ,  0.625     ],\n",
       "       [ 1.        ,  0.625     ],\n",
       "       [ 1.        ,  0.75      ],\n",
       "       [ 0.91666667,  0.625     ],\n",
       "       [ 0.91666667,  1.        ],\n",
       "       [ 0.91666667,  0.75      ],\n",
       "       [ 0.83333333,  0.875     ],\n",
       "       [ 0.75      ,  0.875     ],\n",
       "       [ 0.83333333,  1.        ],\n",
       "       [ 0.83333333,  0.875     ],\n",
       "       [ 0.66666667,  1.        ],\n",
       "       [ 0.91666667,  0.5       ],\n",
       "       [ 0.83333333,  0.75      ],\n",
       "       [ 0.75      ,  0.875     ],\n",
       "       [ 1.        ,  1.        ],\n",
       "       [ 0.91666667,  0.875     ],\n",
       "       [ 1.        ,  0.875     ],\n",
       "       [ 1.        ,  1.        ],\n",
       "       [ 0.91666667,  0.5       ],\n",
       "       [ 0.75      ,  0.625     ]])"
      ]
     },
     "execution_count": 7,
     "metadata": {},
     "output_type": "execute_result"
    }
   ],
   "source": [
    "result"
   ]
  }
 ],
 "metadata": {
  "kernelspec": {
   "display_name": "Python 3",
   "language": "python",
   "name": "python3"
  },
  "language_info": {
   "codemirror_mode": {
    "name": "ipython",
    "version": 3
   },
   "file_extension": ".py",
   "mimetype": "text/x-python",
   "name": "python",
   "nbconvert_exporter": "python",
   "pygments_lexer": "ipython3",
   "version": "3.4.3"
  }
 },
 "nbformat": 4,
 "nbformat_minor": 0
}
