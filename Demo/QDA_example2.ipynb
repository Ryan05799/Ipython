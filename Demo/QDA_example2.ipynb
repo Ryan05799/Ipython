{
 "cells": [
  {
   "cell_type": "code",
   "execution_count": 6,
   "metadata": {
    "collapsed": false
   },
   "outputs": [
    {
     "name": "stderr",
     "output_type": "stream",
     "text": [
      "C:\\Anaconda3\\lib\\site-packages\\sklearn\\lda.py:406: DeprecationWarning: 'store_covariance' was moved to the __init__()method in version 0.16 and will be removed fromfit() in version 0.18.\n",
      "  \"fit() in version 0.18.\", DeprecationWarning)\n"
     ]
    }
   ],
   "source": [
    "\n",
    "from scipy import linalg\n",
    "import numpy as np\n",
    "import pylab as pl\n",
    "import matplotlib as mpl\n",
    "\n",
    "from sklearn.lda import LDA\n",
    "from sklearn.qda import QDA\n",
    "\n",
    "################################################################################\n",
    "# load sample dataset\n",
    "from sklearn.datasets import load_iris\n",
    "\n",
    "iris = load_iris()\n",
    "X = iris.data[:,:2] # Take only 2 dimensions\n",
    "y = iris.target\n",
    "X = X[y > 0]\n",
    "y = y[y > 0]\n",
    "y -= 1\n",
    "target_names = iris.target_names[1:]\n",
    "\n",
    "################################################################################\n",
    "# LDA\n",
    "lda = LDA()\n",
    "y_pred = lda.fit(X, y, store_covariance=True).predict(X)\n",
    "\n",
    "# QDA\n",
    "qda = QDA()\n",
    "y_pred = qda.fit(X, y, store_covariances=True).predict(X)\n",
    "\n"
   ]
  },
  {
   "cell_type": "code",
   "execution_count": 7,
   "metadata": {
    "collapsed": false
   },
   "outputs": [
    {
     "data": {
      "text/plain": [
       "(200, 200)"
      ]
     },
     "execution_count": 7,
     "metadata": {},
     "output_type": "execute_result"
    }
   ],
   "source": [
    "###############################################################################\n",
    "# Plot results\n",
    "\n",
    "def plot_ellipse(splot, mean, cov, color):\n",
    "    v, w = linalg.eigh(cov)\n",
    "    u = w[0] / linalg.norm(w[0])\n",
    "    angle = np.arctan(u[1]/u[0])\n",
    "    angle = 180 * angle / np.pi # convert to degrees\n",
    "    # filled gaussian at 2 standard deviation\n",
    "    ell = mpl.patches.Ellipse(mean, 2 * v[0] ** 0.5, 2 * v[1] ** 0.5,\n",
    "                                            180 + angle, color=color)\n",
    "    ell.set_clip_box(splot.bbox)\n",
    "    ell.set_alpha(0.5)\n",
    "    splot.add_artist(ell)\n",
    "    \n",
    "#generate coordinates for the grid\n",
    "xx, yy = np.meshgrid(np.linspace(4, 8.5, 200), np.linspace(1.5, 4.5, 200))\n",
    "X_grid = np.c_[xx.ravel(), yy.ravel()]\n",
    "zz_lda = lda.predict_proba(X_grid)[:,1].reshape(xx.shape)\n",
    "zz_qda = qda.predict_proba(X_grid)[:,1].reshape(xx.shape)\n",
    "xx.shape"
   ]
  },
  {
   "cell_type": "code",
   "execution_count": 13,
   "metadata": {
    "collapsed": false
   },
   "outputs": [
    {
     "data": {
      "text/plain": [
       "array(['versicolor', 'virginica'], \n",
       "      dtype='<U10')"
      ]
     },
     "execution_count": 13,
     "metadata": {},
     "output_type": "execute_result"
    }
   ],
   "source": [
    "target_names"
   ]
  },
  {
   "cell_type": "code",
   "execution_count": 12,
   "metadata": {
    "collapsed": false
   },
   "outputs": [],
   "source": [
    "pl.figure()\n",
    "splot = pl.subplot(1, 2, 1)\n",
    "pl.contourf(xx, yy, zz_qda > 0.5, alpha=0.5)\n",
    "pl.scatter(X[y==0,0], X[y==0,1], c='b', label=target_names[0])\n",
    "pl.scatter(X[y==1,0], X[y==1,1], c='r', label=target_names[1])\n",
    "pl.contour(xx, yy, zz_qda, [0.5], linewidths=2., colors='k')\n",
    "#plot_ellipse(splot, qda.means_[0], qda.covariances_[0], 'b')\n",
    "#plot_ellipse(splot, qda.means_[1], qda.covariances_[1], 'r')\n",
    "pl.legend()\n",
    "pl.axis('tight')\n",
    "pl.title('Quadratic Discriminant Analysis')\n",
    "pl.savefig('test.jpg')\n",
    "pl.show()\n"
   ]
  },
  {
   "cell_type": "code",
   "execution_count": 10,
   "metadata": {
    "collapsed": false
   },
   "outputs": [
    {
     "data": {
      "text/plain": [
       "array([[ 0.32868 ,  0.087684],\n",
       "       [ 0.087684,  0.099212]])"
      ]
     },
     "execution_count": 10,
     "metadata": {},
     "output_type": "execute_result"
    }
   ],
   "source": [
    "lda.covariance_"
   ]
  }
 ],
 "metadata": {
  "kernelspec": {
   "display_name": "Python 3",
   "language": "python",
   "name": "python3"
  },
  "language_info": {
   "codemirror_mode": {
    "name": "ipython",
    "version": 3
   },
   "file_extension": ".py",
   "mimetype": "text/x-python",
   "name": "python",
   "nbconvert_exporter": "python",
   "pygments_lexer": "ipython3",
   "version": "3.4.3"
  }
 },
 "nbformat": 4,
 "nbformat_minor": 0
}
