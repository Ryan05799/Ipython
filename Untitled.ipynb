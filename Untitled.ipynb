{
 "cells": [
  {
   "cell_type": "code",
   "execution_count": 7,
   "metadata": {
    "collapsed": true
   },
   "outputs": [],
   "source": [
    "import os\n",
    "from tkinter import *\n",
    "from tkinter import filedialog\n",
    "from tkinter.filedialog import askopenfilename\n",
    "from PIL import Image, ImageTk,ImageDraw\n"
   ]
  },
  {
   "cell_type": "code",
   "execution_count": 8,
   "metadata": {
    "collapsed": false
   },
   "outputs": [
    {
     "name": "stdout",
     "output_type": "stream",
     "text": [
      "Enter key pressed\n",
      "Left key pressed\n",
      "Enter key pressed\n",
      "Enter key pressed\n",
      "Enter key pressed\n",
      "Enter key pressed\n",
      "Enter key pressed\n",
      "Enter key pressed\n",
      "Enter key pressed\n",
      "Enter key pressed\n",
      "Enter key pressed\n"
     ]
    }
   ],
   "source": [
    "if __name__ == \"__main__\":\n",
    "    \n",
    "    main = Tk()\n",
    "\n",
    "    def leftKey(event):\n",
    "        print(\"Left key pressed\")\n",
    "\n",
    "    def rightKey(event):\n",
    "        print(\"Enter key pressed\")\n",
    "\n",
    "    frame = Frame(main, width=100, height=100)\n",
    "    main.bind('<Left>', leftKey)\n",
    "    main.bind('<RealesAlt_L>', rightKey)\n",
    "    frame.pack()\n",
    "    \n",
    "    \n",
    "    \n",
    "    \n",
    "    main.mainloop()"
   ]
  }
 ],
 "metadata": {
  "kernelspec": {
   "display_name": "Python 3",
   "language": "python",
   "name": "python3"
  }
 },
 "nbformat": 4,
 "nbformat_minor": 0
}
