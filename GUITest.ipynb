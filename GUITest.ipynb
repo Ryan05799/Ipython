{
 "cells": [
  {
   "cell_type": "code",
   "execution_count": 3,
   "metadata": {
    "collapsed": false
   },
   "outputs": [],
   "source": [
    "from tkinter import *\n",
    "\n",
    "root = Tk() #Makes the window\n",
    "root.wm_title(\"Window Title\") #Makes the title that will appear in the top left\n",
    "root.config(background = \"#FFFFFF\")\n",
    "\n",
    "\n",
    "def redCircle():\n",
    "    circleCanvas.create_oval(20, 20, 80, 80, width=0, fill='red')\n",
    "    colorLog.insert(0.0, \"Red\\n\")\n",
    "\n",
    "def yelCircle():\n",
    "    circleCanvas.create_oval(20, 20, 80, 80, width=0, fill='yellow')\n",
    "    colorLog.insert(0.0, \"Yellow\\n\")\n",
    "\n",
    "def grnCircle():\n",
    "    circleCanvas.create_oval(20, 20, 80, 80, width=0, fill='green')\n",
    "    colorLog.insert(0.0, \"Green\\n\")\n",
    "\n",
    "\n",
    "#Left Frame and its contents\n",
    "leftFrame = Frame(root, width=200, height = 600)\n",
    "leftFrame.grid(row=0, column=0, padx=10, pady=2)\n",
    "\n",
    "Label(leftFrame, text=\"Instructions:\").grid(row=0, column=0, padx=10, pady=2)\n",
    "\n",
    "Instruct = Label(leftFrame, text=\"1\\n2\\n2\\n3\\n4\\n5\\n6\\n7\\n8\\n9\\n\")\n",
    "Instruct.grid(row=1, column=0, padx=10, pady=2)\n",
    "\n",
    "try:\n",
    "    imageEx = PhotoImage(file = 'test.bmp')\n",
    "    Label(leftFrame, image=imageEx).grid(row=2, column=0, padx=10, pady=2)\n",
    "except:\n",
    "    print(\"Image not found\")\n",
    "\n",
    "#Right Frame and its contents\n",
    "rightFrame = Frame(root, width=200, height = 600)\n",
    "rightFrame.grid(row=0, column=1, padx=10, pady=2)\n",
    "\n",
    "circleCanvas = Canvas(rightFrame, width=100, height=100, bg='white')\n",
    "circleCanvas.grid(row=0, column=0, padx=10, pady=2)\n",
    "\n",
    "btnFrame = Frame(rightFrame, width=200, height = 200)\n",
    "btnFrame.grid(row=1, column=0, padx=10, pady=2)\n",
    "\n",
    "colorLog = Text(rightFrame, width = 30, height = 10, takefocus=0)\n",
    "colorLog.grid(row=2, column=0, padx=10, pady=2)\n",
    "\n",
    "redBtn = Button(btnFrame, text=\"Red\", command=redCircle)\n",
    "redBtn.grid(row=0, column=0, padx=10, pady=2)\n",
    "\n",
    "yellowBtn = Button(btnFrame, text=\"Yellow\", command=yelCircle)\n",
    "yellowBtn.grid(row=0, column=1, padx=10, pady=2)\n",
    "\n",
    "greenBtn = Button(btnFrame, text=\"Green\", command=grnCircle)\n",
    "greenBtn.grid(row=0, column=2, padx=10, pady=2)\n",
    "\n",
    "\n",
    "root.mainloop() #start monitoring and updating the GUI"
   ]
  }
 ],
 "metadata": {
  "kernelspec": {
   "display_name": "Python 3",
   "language": "python",
   "name": "python3"
  },
  "language_info": {
   "codemirror_mode": {
    "name": "ipython",
    "version": 3
   },
   "file_extension": ".py",
   "mimetype": "text/x-python",
   "name": "python",
   "nbconvert_exporter": "python",
   "pygments_lexer": "ipython3",
   "version": "3.4.3"
  }
 },
 "nbformat": 4,
 "nbformat_minor": 0
}
