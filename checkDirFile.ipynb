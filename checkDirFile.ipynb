{
 "cells": [
  {
   "cell_type": "code",
   "execution_count": 37,
   "metadata": {
    "collapsed": false
   },
   "outputs": [
    {
     "name": "stdout",
     "output_type": "stream",
     "text": [
      "3D plot.ipynb\n",
      "3DSurfacePlot.ipynb\n",
      "checkDirFile.ipynb\n",
      "feat.xlsx\n",
      "features.xlsx\n",
      "QDA3DCrossValidate.ipynb\n",
      "QDARandomData.ipynb\n",
      "QDA_3Dtest.ipynb\n",
      "QDA_example1.ipynb\n",
      "QDA_example2.ipynb\n",
      "readExcel.ipynb\n",
      "readImageset.ipynb\n"
     ]
    }
   ],
   "source": [
    "import os\n",
    "\n",
    "files = [f for f in os.listdir('.') if os.path.isfile(f)]\n",
    "for f in files:\n",
    "        print(f)"
   ]
  },
  {
   "cell_type": "code",
   "execution_count": 38,
   "metadata": {
    "collapsed": false
   },
   "outputs": [
    {
     "data": {
      "text/plain": [
       "'460nm__20141027_050804_776.bmp'"
      ]
     },
     "execution_count": 38,
     "metadata": {},
     "output_type": "execute_result"
    }
   ],
   "source": [
    "a = os.listdir('./16588000')\n",
    "a[1]"
   ]
  },
  {
   "cell_type": "code",
   "execution_count": 39,
   "metadata": {
    "collapsed": true
   },
   "outputs": [],
   "source": [
    "def getFiles(dirName):\n",
    "    \n",
    "    if os.path.exists(dirName):\n",
    "        try:\n",
    "            files = os.listdir(dirName)\n",
    "        except Exception as e:\n",
    "            print(e)\n",
    "    else:\n",
    "        files = None\n",
    "    \n",
    "    return files"
   ]
  },
  {
   "cell_type": "code",
   "execution_count": 40,
   "metadata": {
    "collapsed": false
   },
   "outputs": [],
   "source": [
    "getFiles('./1658800')"
   ]
  },
  {
   "cell_type": "code",
   "execution_count": 41,
   "metadata": {
    "collapsed": false
   },
   "outputs": [
    {
     "data": {
      "text/plain": [
       "['375nm__20141027_050804_776.bmp',\n",
       " '460nm__20141027_050804_776.bmp',\n",
       " '_20141027_050804_776_pseudo_color.bmp']"
      ]
     },
     "execution_count": 41,
     "metadata": {},
     "output_type": "execute_result"
    }
   ],
   "source": [
    "getFiles('./16588000')"
   ]
  }
 ],
 "metadata": {
  "kernelspec": {
   "display_name": "Python 3",
   "language": "python",
   "name": "python3"
  },
  "language_info": {
   "codemirror_mode": {
    "name": "ipython",
    "version": 3
   },
   "file_extension": ".py",
   "mimetype": "text/x-python",
   "name": "python",
   "nbconvert_exporter": "python",
   "pygments_lexer": "ipython3",
   "version": "3.4.3"
  }
 },
 "nbformat": 4,
 "nbformat_minor": 0
}
