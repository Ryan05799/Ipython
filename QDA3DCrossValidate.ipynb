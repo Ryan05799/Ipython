{
 "cells": [
  {
   "cell_type": "code",
   "execution_count": 18,
   "metadata": {
    "collapsed": true
   },
   "outputs": [],
   "source": [
    "import pandas as pd\n",
    "from scipy import linalg\n",
    "import numpy as np\n",
    "import matplotlib.pyplot as plt\n",
    "import matplotlib as mpl\n",
    "from matplotlib import colors\n",
    "from mpl_toolkits.mplot3d import Axes3D\n",
    "from sklearn.qda import QDA\n",
    "import random\n",
    "pd.set_option('display.max_rows', 30)"
   ]
  },
  {
   "cell_type": "code",
   "execution_count": 19,
   "metadata": {
    "collapsed": true
   },
   "outputs": [],
   "source": [
    "#Settings\n",
    "t_data_perc = 0.3333"
   ]
  },
  {
   "cell_type": "code",
   "execution_count": 20,
   "metadata": {
    "collapsed": false
   },
   "outputs": [
    {
     "data": {
      "text/plain": [
       "array([[  6.17183420e+01,   9.10645398e+01,   5.27326164e-02],\n",
       "       [  1.16681040e+02,   9.18781169e+01,   1.97783547e-02],\n",
       "       [  1.22245786e+02,   9.81470863e+01,   2.28818258e-02],\n",
       "       [  1.17923724e+02,   1.04429809e+02,   1.95357505e-02],\n",
       "       [  6.78922932e+01,   7.52983957e+01,   3.66027385e-02],\n",
       "       [  9.34843662e+01,   9.12943605e+01,   3.41144488e-02],\n",
       "       [  8.51281884e+01,   7.87835367e+01,   2.80205943e-02],\n",
       "       [  1.04633749e+02,   9.41237276e+01,   2.33339155e-02],\n",
       "       [  1.06508016e+02,   9.71825584e+01,   1.19841283e-02],\n",
       "       [  1.04088487e+02,   1.04756378e+02,   2.68098408e-02],\n",
       "       [  7.02659419e+01,   7.47430068e+01,   2.60239956e-02],\n",
       "       [  6.99665677e+01,   8.94889549e+01,   5.38412336e-02],\n",
       "       [  6.04400945e+01,   5.43692314e+01,   3.03927802e-02],\n",
       "       [  1.14079248e+02,   9.99329210e+01,   2.74550795e-02],\n",
       "       [  1.03549168e+02,   9.24883686e+01,   2.56329827e-02],\n",
       "       [  1.23374523e+02,   1.01794226e+02,   1.29479469e-02],\n",
       "       [  8.34986879e+01,   8.57893846e+01,   3.50891029e-02],\n",
       "       [  3.90594174e+01,   5.03188155e+01,   4.84668517e-02],\n",
       "       [  8.60464554e+01,   1.02264672e+02,   5.23264670e-02],\n",
       "       [  1.47875910e+02,   1.45466068e+02,   1.75261311e-02],\n",
       "       [  7.63590585e+01,   9.00061740e+01,   2.35248698e-02],\n",
       "       [  9.57656648e+01,   9.16369477e+01,   2.22911816e-02],\n",
       "       [  1.29355258e+02,   1.22746757e+02,   1.78823235e-02],\n",
       "       [  1.02213394e+02,   1.21257382e+02,   2.46943146e-02],\n",
       "       [  1.30946651e+02,   1.09212489e+02,   1.23168928e-02],\n",
       "       [  1.12635564e+02,   1.15499171e+02,   3.32049874e-02],\n",
       "       [  8.46080078e+01,   1.14365148e+02,   3.39609941e-02],\n",
       "       [  6.84603138e+01,   1.00990586e+02,   3.13597213e-02],\n",
       "       [  7.82418106e+01,   1.05764198e+02,   1.76370240e-02],\n",
       "       [  1.27568604e+02,   1.71816602e+02,   1.91052467e-02],\n",
       "       [  1.21110889e+02,   1.54020890e+02,   2.30149287e-02],\n",
       "       [  6.12047951e+01,   7.07069696e+01,   3.87828014e-02],\n",
       "       [  5.62545860e+01,   8.06108925e+01,   2.48843877e-02],\n",
       "       [  4.18650823e+01,   6.20786662e+01,   3.22822881e-02],\n",
       "       [  6.51862389e+01,   9.14593920e+01,   3.03062146e-02],\n",
       "       [  8.12684328e+01,   1.10709707e+02,   3.17919696e-02],\n",
       "       [  8.89546083e+01,   1.23794453e+02,   3.56478720e-02],\n",
       "       [  1.31815908e+02,   1.69680809e+02,   2.58457356e-02],\n",
       "       [  9.46869941e+01,   1.50468566e+02,   3.64747076e-02]])"
      ]
     },
     "execution_count": 20,
     "metadata": {},
     "output_type": "execute_result"
    }
   ],
   "source": [
    "#Read cancer data from the excel file\n",
    "df = pd.read_excel('dataTable.xlsx', sheetname = 0, header = 0)\n",
    "x1 = np.array(df['NADH_Intensity_B']).reshape(-1,1)\n",
    "y1 = np.array(df['Fad_Intensity_G']).reshape(-1,1)\n",
    "z1 = np.array(df['redoxRatioPix']).reshape(-1,1)\n",
    "cancer_pt = np.hstack([x1, y1, z1])\n",
    "\n",
    "#Read normal data from the excel file\n",
    "df2 = pd.read_excel('dataTable.xlsx', sheetname = 1, header = 0)\n",
    "x2 = np.array(df2['NADH_Intensity_B']).reshape(-1,1)\n",
    "y2 = np.array(df2['Fad_Intensity_G']).reshape(-1,1)\n",
    "z2 = np.array(df2['redoxRatioPix']).reshape(-1,1)\n",
    "normal_pt = np.hstack([x2, y2, z2])\n",
    "\n",
    "norDataNum, normal_ndim = normal_pt.shape\n",
    "cnDataNum, cancer_ndim = cancer_pt.shape\n",
    "\n",
    "#Sort given training data with corresponding labels\n",
    "nor_n = np.zeros(int(normal_pt.size/normal_ndim))\n",
    "can_n = np.ones(int(cancer_pt.size/cancer_ndim))\n",
    "labels = np.hstack((nor_n, can_n))\n",
    "train_data = np.vstack((normal_pt, cancer_pt))\n",
    "normal_pt"
   ]
  },
  {
   "cell_type": "code",
   "execution_count": 21,
   "metadata": {
    "collapsed": true
   },
   "outputs": [],
   "source": [
    "def randTestData(perc, size):\n",
    "    \n",
    "    if perc > 1:\n",
    "        perc = 1\n",
    "    \n",
    "    smpSize = int(perc*size)\n",
    "    labelTesting = np.ones(size) == 1\n",
    "    smpIndice = random.sample(list(range(0, size)), smpSize)\n",
    "    \n",
    "    for i in smpIndice:\n",
    "        labelTesting[i] = False\n",
    "    \n",
    "    return size-smpSize, labelTesting"
   ]
  },
  {
   "cell_type": "code",
   "execution_count": 22,
   "metadata": {
    "collapsed": false
   },
   "outputs": [],
   "source": [
    "def QDAResult3D():\n",
    "\n",
    "    norTrainNum, nor_isTraining = randTestData(t_data_perc, norDataNum)\n",
    "    cnTrainNum, cn_isTraining = randTestData(t_data_perc, cnDataNum)\n",
    "    isTraining =np.hstack((nor_isTraining, cn_isTraining))\n",
    "\n",
    "    #Training QDA classifier\n",
    "    clf = QDA()\n",
    "    trained_clf = clf.fit(train_data[isTraining], labels[isTraining])\n",
    "\n",
    "     #Using the remaining data for testing\n",
    "    normal_pred = trained_clf.predict(normal_pt[nor_isTraining == False])\n",
    "    trueneg_n = (normal_pred == 0).sum()\n",
    "    specificity = trueneg_n/int(norDataNum - norTrainNum)\n",
    "\n",
    "    cancer_pred = trained_clf.predict(cancer_pt[cn_isTraining == False])\n",
    "    truepos_n = (cancer_pred == 1).sum()\n",
    "    sensitivity = truepos_n/int(cnDataNum - cnTrainNum)\n",
    "    \n",
    "    return sensitivity, specificity"
   ]
  },
  {
   "cell_type": "code",
   "execution_count": 23,
   "metadata": {
    "collapsed": false,
    "scrolled": true
   },
   "outputs": [],
   "source": [
    "result = np.zeros(40).reshape((20, 2))\n",
    "\n",
    "for i in range(20):\n",
    "    result[i] = QDAResult3D()\n",
    "\n",
    "specAvr = result[:, 1].sum()/20\n",
    "sp_min = result[:, 1].min()\n",
    "sp_max = result[:, 1].max()\n",
    "sensAvr = result[:, 0].sum()/20\n",
    "sn_min = result[:, 0].min()\n",
    "sn_max = result[:, 0].max()\n"
   ]
  },
  {
   "cell_type": "code",
   "execution_count": 24,
   "metadata": {
    "collapsed": false
   },
   "outputs": [],
   "source": [
    "#plot the result in 3D\n",
    "fig = plt.figure()\n",
    "ax = fig.add_subplot(111, projection='3d')\n",
    "ax.scatter(x1.ravel(), y1.ravel(), z1.ravel(), c = 'r', marker = 'o', label = 'Cancer(N =' + str(cnDataNum) +')')\n",
    "ax.scatter(x2.ravel(), y2.ravel(), z2.ravel(), c = 'b', marker = '^', label = 'Normal(N =' + str(norDataNum) +')')\n",
    "\n",
    "plt.axis('tight')\n",
    "plt.title('Specificity: ' + '{0:.3f}'.format(specAvr) +  ' ; ' + 'Sensitivity:' + '{0:.3f}'.format(sensAvr), fontsize = 12)\n",
    "plt.suptitle('NADH intensity - FAD intensity - Heterogeneit redox', fontsize = 14)\n",
    "ax.set_xlabel('nadh_intensity')\n",
    "ax.set_ylabel('fad_intensity')\n",
    "ax.set_zlabel('redox_hetero')\n",
    "plt.legend()\n",
    "plt.show()"
   ]
  },
  {
   "cell_type": "code",
   "execution_count": 25,
   "metadata": {
    "collapsed": false
   },
   "outputs": [
    {
     "name": "stdout",
     "output_type": "stream",
     "text": [
      "0.9375 1.0 0.666666666667 0.76875 1.0 0.5\n"
     ]
    }
   ],
   "source": [
    "print (specAvr, sp_max, sp_min, sensAvr, sn_max, sn_min)"
   ]
  }
 ],
 "metadata": {
  "kernelspec": {
   "display_name": "Python 3",
   "language": "python",
   "name": "python3"
  },
  "language_info": {
   "codemirror_mode": {
    "name": "ipython",
    "version": 3
   },
   "file_extension": ".py",
   "mimetype": "text/x-python",
   "name": "python",
   "nbconvert_exporter": "python",
   "pygments_lexer": "ipython3",
   "version": "3.4.3"
  }
 },
 "nbformat": 4,
 "nbformat_minor": 0
}
