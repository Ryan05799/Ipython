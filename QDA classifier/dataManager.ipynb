{
 "cells": [
  {
   "cell_type": "code",
   "execution_count": 31,
   "metadata": {
    "collapsed": false
   },
   "outputs": [],
   "source": [
    "import os\n",
    "import os.path\n",
    "import pandas as pd\n",
    "import numpy as np\n",
    "import time\n",
    "import QDAResultGen as qdar\n",
    "import FeatureGen as fg\n",
    "import dataTableGen as dtg\n"
   ]
  },
  {
   "cell_type": "code",
   "execution_count": 32,
   "metadata": {
    "collapsed": false,
    "scrolled": true
   },
   "outputs": [],
   "source": [
    "df = pd.read_excel(dtg.listFilePath, sheetname = 2, header = 0)\n",
    "commandTable = {'Command': 'Parameter'}\n",
    "\n",
    "#Load commands\n",
    "cmd = df['Command']\n",
    "param = df['Parameter']\n",
    "for i in range(cmd.size):\n",
    "    key = cmd[i]\n",
    "    commandTable[key] = param[i]"
   ]
  },
  {
   "cell_type": "code",
   "execution_count": 33,
   "metadata": {
    "collapsed": false
   },
   "outputs": [
    {
     "name": "stdout",
     "output_type": "stream",
     "text": [
      "Read table from ./result/2015105_1719/\n"
     ]
    }
   ],
   "source": [
    "if commandTable['update_features']:\n",
    "    dtg.updateFeature(fadOnly = commandTable['Use_Fad_only'])\n",
    "\n",
    "#Generate new data table\n",
    "resultPath = dtg.dataTableGen()\n",
    "print('Read table from ' + resultPath)"
   ]
  },
  {
   "cell_type": "code",
   "execution_count": 34,
   "metadata": {
    "collapsed": false
   },
   "outputs": [
    {
     "name": "stdout",
     "output_type": "stream",
     "text": [
      "Fad_Intensity_G vs Fad_std_G\n",
      "Fad_Intensity_G vs Fad_std_G repeat20 times\n",
      "Fad_Intensity_G vs redoxRatioPix\n",
      "NADH_Intensity_B vs redoxRatioPix\n",
      "Fad_Intensity_G vs redoxRatioGrid\n",
      "NADH_Intensity_B vs redoxRatioGrid\n",
      "NADH_Intensity_B vs NADH_std_B\n",
      "Fad_Intensity_G vs redoxRatioPix vs redoxRatioPix\n",
      "Fad_Intensity_G vs redoxRatio repeat20 times\n",
      "NADH_Intensity_B vs NADH_std_B repeat20 times\n",
      "NADH_Intensity_B vs redoxRatio repeat20 times\n",
      "5D QDA\n",
      "Weak Learner\n",
      "3D\n",
      "Weak Learner cross validation using features: ('Fad_Intensity_G', 'NADH_Intensity_B', 'redoxRatioPix')\n",
      "for 20iter\n",
      "5D\n",
      "Weak Learner cross validation using features: ('Fad_Intensity_G', 'Fad_std_G', 'NADH_Intensity_B', 'NADH_std_B', 'redoxRatioPix')\n",
      "for 20iter\n",
      "Done\n"
     ]
    }
   ],
   "source": [
    "qdaresult = qdar.QDAResultGen(resultPath)\n",
    "\n",
    "itr = int(commandTable['CV_itr'])\n",
    "\n",
    "print('Fad_Intensity_G vs Fad_std_G')\n",
    "nor, cn = qdaresult.loadFeatureArr('Fad_Intensity_G' ,  'Fad_std_G')\n",
    "QDAClf , sn, sp = qdaresult.QDATrain(nor, cn)\n",
    "tag = 'Specificity: ' + '{0:.3f}'.format(sp) +  ' ; ' + 'Sensitivity:' + '{0:.3f}'.format(sn)\n",
    "qdaresult.plotQda2dFig(QDAClf, nor, cn, 200, 80, 'Fad_Intensity_G', 'Fad_std_G',showfig = False, title = tag, figDir ='2DTrainOnly')\n",
    "\n",
    "\n",
    "if (commandTable['CV']):\n",
    "    print('Fad_Intensity_G vs Fad_std_G repeat' + str(itr) + ' times')\n",
    "    qdaresult.crossValidate(itr, 'Fad_Intensity_G' , 'Fad_std_G')\n",
    "\n",
    "if not (commandTable['Use_Fad_only']):\n",
    "    \n",
    "    print('Fad_Intensity_G vs redoxRatioPix')\n",
    "    nor, cn = qdaresult.loadFeatureArr('Fad_Intensity_G' ,  'redoxRatioPix')\n",
    "    QDAClf , sn, sp = qdaresult.QDATrain(nor, cn)\n",
    "    tag = 'Specificity: ' + '{0:.3f}'.format(sp) +  ' ; ' + 'Sensitivity:' + '{0:.3f}'.format(sn)\n",
    "    qdaresult.plotQda2dFig(QDAClf, nor, cn, 200, 0.15, 'Fad_Intensity_G', 'redoxRatioPix',showfig = False, title = tag, figDir ='2DTrainOnly')\n",
    "    \n",
    "    print('NADH_Intensity_B vs redoxRatioPix')\n",
    "    nor, cn = qdaresult.loadFeatureArr('NADH_Intensity_B' ,  'redoxRatioPix')\n",
    "    QDAClf , sn, sp = qdaresult.QDATrain(nor, cn)\n",
    "    tag = 'Specificity: ' + '{0:.3f}'.format(sp) +  ' ; ' + 'Sensitivity:' + '{0:.3f}'.format(sn)\n",
    "    qdaresult.plotQda2dFig(QDAClf, nor, cn, 200, 0.15, 'NADH_Intensity_B', 'redoxRatioPix',showfig = False, title = tag, figDir ='2DTrainOnly')\n",
    "\n",
    "    print('Fad_Intensity_G vs redoxRatioGrid')    \n",
    "    nor, cn = qdaresult.loadFeatureArr('Fad_Intensity_G' ,  'redoxRatioGrid')\n",
    "    QDAClf , sn, sp = qdaresult.QDATrain(nor, cn)\n",
    "    tag = 'Specificity: ' + '{0:.3f}'.format(sp) +  ' ; ' + 'Sensitivity:' + '{0:.3f}'.format(sn)\n",
    "    qdaresult.plotQda2dFig(QDAClf, nor, cn, 200, 0.15, 'Fad_Intensity_G', 'redoxRatioGrid',showfig = False, title = tag, figDir ='2DTrainOnly')\n",
    "    \n",
    "    print('NADH_Intensity_B vs redoxRatioGrid')\n",
    "    nor, cn = qdaresult.loadFeatureArr('NADH_Intensity_B' ,  'redoxRatioGrid')\n",
    "    QDAClf , sn, sp = qdaresult.QDATrain(nor, cn)\n",
    "    tag = 'Specificity: ' + '{0:.3f}'.format(sp) +  ' ; ' + 'Sensitivity:' + '{0:.3f}'.format(sn)\n",
    "    qdaresult.plotQda2dFig(QDAClf, nor, cn, 200, 0.15, 'NADH_Intensity_B', 'redoxRatioGrid',showfig = False, title = tag, figDir ='2DTrainOnly')\n",
    "\n",
    "    print('NADH_Intensity_B vs NADH_std_B')\n",
    "    nor, cn = qdaresult.loadFeatureArr('NADH_Intensity_B' ,  'NADH_std_B')\n",
    "    QDAClf , sn, sp = qdaresult.QDATrain(nor, cn)\n",
    "    tag = 'Specificity: ' + '{0:.3f}'.format(sp) +  ' ; ' + 'Sensitivity:' + '{0:.3f}'.format(sn)\n",
    "    qdaresult.plotQda2dFig(QDAClf, nor, cn, 200, 80, 'NADH_Intensity_B', 'NADH_std_B',showfig = False, title = tag, figDir ='2DTrainOnly')\n",
    "\n",
    "    if(commandTable['Show_3D']):\n",
    "        print('Fad_Intensity_G vs redoxRatioPix vs redoxRatioPix')\n",
    "        nor3d , cn3d = qdaresult.loadFeatureArr('Fad_Intensity_G' , 'NADH_Intensity_B',  'redoxRatioPix')\n",
    "        QDAClf , sn, sp = qdaresult.QDATrain(nor3d, cn3d)\n",
    "        tag = 'Inside test Specificity: ' + '{0:.3f}'.format(sp) +  ' ; ' + 'Sensitivity:' + '{0:.3f}'.format(sn)\n",
    "        qdaresult.plotQda3dFig(QDAClf, nor3d , cn3d, title = tag)\n",
    "        qdaresult.crossValidate(itr, 'Fad_Intensity_G', 'NADH_Intensity_B' , 'redoxRatioPix')\n",
    "        \n",
    "    if(commandTable['CV']):\n",
    "        print('Fad_Intensity_G vs redoxRatio repeat' + str(itr) + ' times')\n",
    "        qdaresult.crossValidate(itr, 'Fad_Intensity_G' , commandTable['RedoxRatio'])\n",
    "        \n",
    "        print('NADH_Intensity_B vs NADH_std_B repeat' + str(itr) + ' times')\n",
    "        qdaresult.crossValidate(itr, 'NADH_Intensity_B' , 'NADH_std_B')\n",
    "        \n",
    "        print('NADH_Intensity_B vs redoxRatio repeat' + str(itr) + ' times')\n",
    "        qdaresult.crossValidate(itr, 'NADH_Intensity_B' , commandTable['RedoxRatio'])\n",
    "\n",
    "    if(commandTable['Five_dimQDA']):\n",
    "        \n",
    "        print('5D QDA')\n",
    "        qdaresult.crossValidate(itr, 'Fad_Intensity_G', 'Fad_std_G', 'NADH_Intensity_B' , 'NADH_std_B', commandTable['RedoxRatio'])\n",
    "\n",
    "    if(commandTable['Weak_learner']):\n",
    "        print('Weak Learner')\n",
    "        perc = commandTable['WL_percentage']\n",
    "        perc_trn = commandTable['WL_percentage_tr']\n",
    "        print('3D')\n",
    "        qdaresult.crossValidateWL( itr, 'Fad_Intensity_G', 'NADH_Intensity_B' , commandTable['RedoxRatio'], perc = perc, perc_trn = perc_trn)\n",
    "        print('5D')\n",
    "        qdaresult.crossValidateWL( itr, 'Fad_Intensity_G', 'Fad_std_G', 'NADH_Intensity_B' , 'NADH_std_B', commandTable['RedoxRatio'], \n",
    "                                  perc = perc, perc_trn = perc_trn)\n",
    "        \n",
    "print('Done')\n",
    "os.system(\"pause\")"
   ]
  }
 ],
 "metadata": {
  "kernelspec": {
   "display_name": "Python 3",
   "language": "python",
   "name": "python3"
  },
  "language_info": {
   "codemirror_mode": {
    "name": "ipython",
    "version": 3
   },
   "file_extension": ".py",
   "mimetype": "text/x-python",
   "name": "python",
   "nbconvert_exporter": "python",
   "pygments_lexer": "ipython3",
   "version": "3.4.3"
  }
 },
 "nbformat": 4,
 "nbformat_minor": 0
}
