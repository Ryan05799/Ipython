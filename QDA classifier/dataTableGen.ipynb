{
 "cells": [
  {
   "cell_type": "code",
   "execution_count": 37,
   "metadata": {
    "collapsed": true
   },
   "outputs": [],
   "source": [
    "import os\n",
    "import os.path\n",
    "import pandas as pd\n",
    "import numpy as np\n",
    "import time\n",
    "import QDAResultGen as qdar\n",
    "import FeatureGen as fg\n"
   ]
  },
  {
   "cell_type": "code",
   "execution_count": 38,
   "metadata": {
    "collapsed": true
   },
   "outputs": [],
   "source": [
    "#Setting parameters\n",
    "#Path\n",
    "listFilePath = './data/datalist.xlsx'\n",
    "dataDirPath = './data/'\n",
    "resultDirPath = './result/'\n",
    "dataClasses = ['cancer', 'normal']\n",
    "featuresInUse = ['0_data ID', 'Fad_Intensity_B', 'Fad_Intensity_G',\n",
    "       'Fad_Intensity_Graylevel', 'Fad_Intensity_R', 'Fad_std_B', 'Fad_std_G',\n",
    "       'Fad_std_R', 'NADH_Intensity_B', 'NADH_Intensity_G',\n",
    "       'NADH_Intensity_Graylevel', 'NADH_Intensity_R', 'NADH_std_B',\n",
    "       'NADH_std_G', 'NADH_std_R', 'redoxRatioGrid', 'redoxRatioPix']\n",
    "\n",
    "useFadOnly = False\n",
    "update = False\n",
    "\n"
   ]
  },
  {
   "cell_type": "code",
   "execution_count": 39,
   "metadata": {
    "collapsed": true
   },
   "outputs": [],
   "source": [
    "#This function read the data list file\n",
    "#Generate and update data feature files in each directory according to the datalist\n",
    "def updateFeature(fadOnly = False):\n",
    "    for sheet in range(0, 2):\n",
    "        \n",
    "        dataClass = dataClasses[sheet]\n",
    "        \n",
    "        #load data list information to dataFrame\n",
    "        df = pd.read_excel(listFilePath, sheetname = sheet, header = 0)\n",
    "        \n",
    "        #Extract only the data marked valid (in excel) for analysis\n",
    "        validData = np.array(df['Valid'])\n",
    "        dataID = np.array(df['DataID'])[validData]\n",
    "        location = np.array(df['Location'])[validData]\n",
    "\n",
    "        counter = 0\n",
    "        for index in range(dataID.size):\n",
    "            \n",
    "            dataFilePath = dataDirPath + dataClass + '/' + location[index] + '/'\n",
    "            print('Processing data: ' + str(dataID[index]))\n",
    "            print('Search data in ' + dataFilePath)\n",
    "            currentData = fg.FeatureGen(dataID[index], dataFilePath, single = fadOnly)\n",
    "            \n",
    "            #Check if current data file exists, generate feature result file if it does\n",
    "            if currentData.valid:\n",
    "                currentData.outputResultFile()\n",
    "                print('Data ' + str(dataID[index]) + ' complete')\n",
    "                counter += 1\n",
    "                \n",
    "        print(str(counter) + ' ' +  dataClass + ' data  processed!!')"
   ]
  },
  {
   "cell_type": "code",
   "execution_count": 40,
   "metadata": {
    "collapsed": true
   },
   "outputs": [],
   "source": [
    "#This function read the data list file, gathering the features for each data and generate data table\n",
    "\n",
    "def dataTableGen():\n",
    "    \n",
    "    t = time.localtime(time.time())\n",
    "    dateStr = str(t.tm_year) + str(t.tm_mon) + str(t.tm_mday) + '_' + str(t.tm_hour) + str(t.tm_min)\n",
    "    #create result directory\n",
    "    \n",
    "    if not os.path.exists(resultDirPath + dateStr):\n",
    "        os.makedirs(resultDirPath + dateStr)\n",
    "        \n",
    "        \n",
    "    tableFileName = resultDirPath + dateStr + '/dataTable.xlsx'\n",
    "    writer = pd.ExcelWriter(tableFileName)\n",
    "\n",
    "    for sheet in range(0, 2):\n",
    "        df_r = pd.read_excel(listFilePath, sheetname = sheet, header = 0)\n",
    "\n",
    "        dataClass = dataClasses[sheet]\n",
    "        #Extract only the data marked valid (in excel) for analysis\n",
    "        validData = np.array(df_r['Valid'])\n",
    "        dataID = np.array(df_r['DataID'])[validData]\n",
    "        location = np.array(df_r['Location'])[validData]\n",
    "\n",
    "        dfout = pd.DataFrame(columns = list(featuresInUse))\n",
    "\n",
    "        for index in range(dataID.size):\n",
    "            dataFilePath = dataDirPath + dataClass + '/' + location[index] + '/' + str(dataID[index]) + '/' + 'feature_results.xlsx'\n",
    "\n",
    "            if os.path.isfile(dataFilePath):\n",
    "                featDF = pd.read_excel(dataFilePath, sheetname = 0, header = 0)\n",
    "                dfout = dfout.append(featDF, ignore_index = True)        \n",
    "            else:\n",
    "                print( dataClass, location[index],' data ' + str(dataID[index]) + ' Feature result not found!')\n",
    "\n",
    "        dfout.to_excel(writer, dataClass)\n",
    "    #Write to the file\n",
    "    writer.save()\n",
    "    return resultDirPath + dateStr + '/'\n",
    "    "
   ]
  }
 ],
 "metadata": {
  "kernelspec": {
   "display_name": "Python 3",
   "language": "python",
   "name": "python3"
  },
  "language_info": {
   "codemirror_mode": {
    "name": "ipython",
    "version": 3
   },
   "file_extension": ".py",
   "mimetype": "text/x-python",
   "name": "python",
   "nbconvert_exporter": "python",
   "pygments_lexer": "ipython3",
   "version": "3.4.3"
  }
 },
 "nbformat": 4,
 "nbformat_minor": 0
}
